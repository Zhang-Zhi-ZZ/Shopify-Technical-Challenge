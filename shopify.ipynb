{
 "metadata": {
  "language_info": {
   "codemirror_mode": {
    "name": "ipython",
    "version": 3
   },
   "file_extension": ".py",
   "mimetype": "text/x-python",
   "name": "python",
   "nbconvert_exporter": "python",
   "pygments_lexer": "ipython3",
   "version": "3.7.6"
  },
  "orig_nbformat": 2,
  "kernelspec": {
   "name": "python3",
   "display_name": "Python 3",
   "language": "python"
  }
 },
 "nbformat": 4,
 "nbformat_minor": 2,
 "cells": [
  {
   "source": [
    "# Shopify Fall 2021 Data Science Intern Challenge\n",
    "Author: Zhi Zhang"
   ],
   "cell_type": "markdown",
   "metadata": {}
  },
  {
   "source": [
    "## Question 1 "
   ],
   "cell_type": "markdown",
   "metadata": {}
  },
  {
   "source": [
    "import pandas as pd \n",
    "import numpy as np\n",
    "pd.options.mode.chained_assignment = None  # default='warn'"
   ],
   "cell_type": "code",
   "metadata": {},
   "execution_count": 2,
   "outputs": []
  },
  {
   "cell_type": "code",
   "execution_count": 3,
   "metadata": {},
   "outputs": [],
   "source": [
    "# load the data\n",
    "df = pd.read_csv('2019 Winter Data Science Intern Challenge Data Set - Sheet1.csv')"
   ]
  },
  {
   "cell_type": "code",
   "execution_count": 4,
   "metadata": {},
   "outputs": [
    {
     "output_type": "execute_result",
     "data": {
      "text/plain": [
       "   order_id  shop_id  user_id  order_amount  total_items payment_method  \\\n",
       "0         1       53      746           224            2           cash   \n",
       "1         2       92      925            90            1           cash   \n",
       "2         3       44      861           144            1           cash   \n",
       "3         4       18      935           156            1    credit_card   \n",
       "4         5       18      883           156            1    credit_card   \n",
       "\n",
       "            created_at  \n",
       "0  2017-03-13 12:36:56  \n",
       "1  2017-03-03 17:38:52  \n",
       "2   2017-03-14 4:23:56  \n",
       "3  2017-03-26 12:43:37  \n",
       "4   2017-03-01 4:35:11  "
      ],
      "text/html": "<div>\n<style scoped>\n    .dataframe tbody tr th:only-of-type {\n        vertical-align: middle;\n    }\n\n    .dataframe tbody tr th {\n        vertical-align: top;\n    }\n\n    .dataframe thead th {\n        text-align: right;\n    }\n</style>\n<table border=\"1\" class=\"dataframe\">\n  <thead>\n    <tr style=\"text-align: right;\">\n      <th></th>\n      <th>order_id</th>\n      <th>shop_id</th>\n      <th>user_id</th>\n      <th>order_amount</th>\n      <th>total_items</th>\n      <th>payment_method</th>\n      <th>created_at</th>\n    </tr>\n  </thead>\n  <tbody>\n    <tr>\n      <th>0</th>\n      <td>1</td>\n      <td>53</td>\n      <td>746</td>\n      <td>224</td>\n      <td>2</td>\n      <td>cash</td>\n      <td>2017-03-13 12:36:56</td>\n    </tr>\n    <tr>\n      <th>1</th>\n      <td>2</td>\n      <td>92</td>\n      <td>925</td>\n      <td>90</td>\n      <td>1</td>\n      <td>cash</td>\n      <td>2017-03-03 17:38:52</td>\n    </tr>\n    <tr>\n      <th>2</th>\n      <td>3</td>\n      <td>44</td>\n      <td>861</td>\n      <td>144</td>\n      <td>1</td>\n      <td>cash</td>\n      <td>2017-03-14 4:23:56</td>\n    </tr>\n    <tr>\n      <th>3</th>\n      <td>4</td>\n      <td>18</td>\n      <td>935</td>\n      <td>156</td>\n      <td>1</td>\n      <td>credit_card</td>\n      <td>2017-03-26 12:43:37</td>\n    </tr>\n    <tr>\n      <th>4</th>\n      <td>5</td>\n      <td>18</td>\n      <td>883</td>\n      <td>156</td>\n      <td>1</td>\n      <td>credit_card</td>\n      <td>2017-03-01 4:35:11</td>\n    </tr>\n  </tbody>\n</table>\n</div>"
     },
     "metadata": {},
     "execution_count": 4
    }
   ],
   "source": [
    "df.head()"
   ]
  },
  {
   "cell_type": "code",
   "execution_count": 5,
   "metadata": {},
   "outputs": [
    {
     "output_type": "execute_result",
     "data": {
      "text/plain": [
       "('2017-03-01 0:08:09', '2017-03-30 9:55:00')"
      ]
     },
     "metadata": {},
     "execution_count": 5
    }
   ],
   "source": [
    "# double check the created_at value, make sure the data is over a 30 day window\n",
    "min(df['created_at']), max(df['created_at'])"
   ]
  },
  {
   "cell_type": "code",
   "execution_count": 6,
   "metadata": {},
   "outputs": [
    {
     "output_type": "execute_result",
     "data": {
      "text/plain": [
       "3145.128"
      ]
     },
     "metadata": {},
     "execution_count": 6
    }
   ],
   "source": [
    "df['order_amount'].mean()"
   ]
  },
  {
   "source": [
    "## Question 1a: Think about what could be going wrong with our calculation. Think about a better way to evaluate this data. \n",
    "\n",
    "## Answer: \n",
    "When we directly calculate the average of the 'order_amount', the AOV is $3145.128. \n",
    "\n",
    "To figure out the what is causing this unusual result, I will explore a bit on the 'order_amount' column. Here are the steps I took to explore the data and came up with a better way to evaluate teh AOV:"
   ],
   "cell_type": "markdown",
   "metadata": {}
  },
  {
   "cell_type": "code",
   "execution_count": 7,
   "metadata": {},
   "outputs": [
    {
     "output_type": "stream",
     "name": "stdout",
     "text": [
      "minimum order amount:  90\nmaximun order amount:  704000\n"
     ]
    }
   ],
   "source": [
    "# check the minimum and maximum of 'order_amount'. The minimum order values looks reasonable, but the maximum order value is unusual.\n",
    "print('minimum order amount: ', min(df['order_amount']))\n",
    "print('maximun order amount: ', max(df['order_amount']))"
   ]
  },
  {
   "cell_type": "code",
   "execution_count": 8,
   "metadata": {},
   "outputs": [
    {
     "output_type": "execute_result",
     "data": {
      "text/plain": [
       "<matplotlib.axes._subplots.AxesSubplot at 0x7fdfcab3b8d0>"
      ]
     },
     "metadata": {},
     "execution_count": 8
    },
    {
     "output_type": "display_data",
     "data": {
      "text/plain": "<Figure size 432x288 with 1 Axes>",
      "image/svg+xml": "<?xml version=\"1.0\" encoding=\"utf-8\" standalone=\"no\"?>\n<!DOCTYPE svg PUBLIC \"-//W3C//DTD SVG 1.1//EN\"\n  \"http://www.w3.org/Graphics/SVG/1.1/DTD/svg11.dtd\">\n<!-- Created with matplotlib (https://matplotlib.org/) -->\n<svg height=\"248.79625pt\" version=\"1.1\" viewBox=\"0 0 394.375 248.79625\" width=\"394.375pt\" xmlns=\"http://www.w3.org/2000/svg\" xmlns:xlink=\"http://www.w3.org/1999/xlink\">\n <defs>\n  <style type=\"text/css\">\n*{stroke-linecap:butt;stroke-linejoin:round;}\n  </style>\n </defs>\n <g id=\"figure_1\">\n  <g id=\"patch_1\">\n   <path d=\"M 0 248.79625 \nL 394.375 248.79625 \nL 394.375 0 \nL 0 0 \nz\n\" style=\"fill:none;\"/>\n  </g>\n  <g id=\"axes_1\">\n   <g id=\"patch_2\">\n    <path d=\"M 52.375 224.64 \nL 387.175 224.64 \nL 387.175 7.2 \nL 52.375 7.2 \nz\n\" style=\"fill:#ffffff;\"/>\n   </g>\n   <g id=\"matplotlib.axis_1\">\n    <g id=\"xtick_1\">\n     <g id=\"line2d_1\">\n      <path clip-path=\"url(#pea970b6de5)\" d=\"M 219.775 224.64 \nL 219.775 7.2 \n\" style=\"fill:none;stroke:#b0b0b0;stroke-linecap:square;stroke-width:0.8;\"/>\n     </g>\n     <g id=\"line2d_2\">\n      <defs>\n       <path d=\"M 0 0 \nL 0 3.5 \n\" id=\"mfa79ec1fdf\" style=\"stroke:#000000;stroke-width:0.8;\"/>\n      </defs>\n      <g>\n       <use style=\"stroke:#000000;stroke-width:0.8;\" x=\"219.775\" xlink:href=\"#mfa79ec1fdf\" y=\"224.64\"/>\n      </g>\n     </g>\n     <g id=\"text_1\">\n      <!-- order_amount -->\n      <defs>\n       <path d=\"M 30.609375 48.390625 \nQ 23.390625 48.390625 19.1875 42.75 \nQ 14.984375 37.109375 14.984375 27.296875 \nQ 14.984375 17.484375 19.15625 11.84375 \nQ 23.34375 6.203125 30.609375 6.203125 \nQ 37.796875 6.203125 41.984375 11.859375 \nQ 46.1875 17.53125 46.1875 27.296875 \nQ 46.1875 37.015625 41.984375 42.703125 \nQ 37.796875 48.390625 30.609375 48.390625 \nz\nM 30.609375 56 \nQ 42.328125 56 49.015625 48.375 \nQ 55.71875 40.765625 55.71875 27.296875 \nQ 55.71875 13.875 49.015625 6.21875 \nQ 42.328125 -1.421875 30.609375 -1.421875 \nQ 18.84375 -1.421875 12.171875 6.21875 \nQ 5.515625 13.875 5.515625 27.296875 \nQ 5.515625 40.765625 12.171875 48.375 \nQ 18.84375 56 30.609375 56 \nz\n\" id=\"DejaVuSans-111\"/>\n       <path d=\"M 41.109375 46.296875 \nQ 39.59375 47.171875 37.8125 47.578125 \nQ 36.03125 48 33.890625 48 \nQ 26.265625 48 22.1875 43.046875 \nQ 18.109375 38.09375 18.109375 28.8125 \nL 18.109375 0 \nL 9.078125 0 \nL 9.078125 54.6875 \nL 18.109375 54.6875 \nL 18.109375 46.1875 \nQ 20.953125 51.171875 25.484375 53.578125 \nQ 30.03125 56 36.53125 56 \nQ 37.453125 56 38.578125 55.875 \nQ 39.703125 55.765625 41.0625 55.515625 \nz\n\" id=\"DejaVuSans-114\"/>\n       <path d=\"M 45.40625 46.390625 \nL 45.40625 75.984375 \nL 54.390625 75.984375 \nL 54.390625 0 \nL 45.40625 0 \nL 45.40625 8.203125 \nQ 42.578125 3.328125 38.25 0.953125 \nQ 33.9375 -1.421875 27.875 -1.421875 \nQ 17.96875 -1.421875 11.734375 6.484375 \nQ 5.515625 14.40625 5.515625 27.296875 \nQ 5.515625 40.1875 11.734375 48.09375 \nQ 17.96875 56 27.875 56 \nQ 33.9375 56 38.25 53.625 \nQ 42.578125 51.265625 45.40625 46.390625 \nz\nM 14.796875 27.296875 \nQ 14.796875 17.390625 18.875 11.75 \nQ 22.953125 6.109375 30.078125 6.109375 \nQ 37.203125 6.109375 41.296875 11.75 \nQ 45.40625 17.390625 45.40625 27.296875 \nQ 45.40625 37.203125 41.296875 42.84375 \nQ 37.203125 48.484375 30.078125 48.484375 \nQ 22.953125 48.484375 18.875 42.84375 \nQ 14.796875 37.203125 14.796875 27.296875 \nz\n\" id=\"DejaVuSans-100\"/>\n       <path d=\"M 56.203125 29.59375 \nL 56.203125 25.203125 \nL 14.890625 25.203125 \nQ 15.484375 15.921875 20.484375 11.0625 \nQ 25.484375 6.203125 34.421875 6.203125 \nQ 39.59375 6.203125 44.453125 7.46875 \nQ 49.3125 8.734375 54.109375 11.28125 \nL 54.109375 2.78125 \nQ 49.265625 0.734375 44.1875 -0.34375 \nQ 39.109375 -1.421875 33.890625 -1.421875 \nQ 20.796875 -1.421875 13.15625 6.1875 \nQ 5.515625 13.8125 5.515625 26.8125 \nQ 5.515625 40.234375 12.765625 48.109375 \nQ 20.015625 56 32.328125 56 \nQ 43.359375 56 49.78125 48.890625 \nQ 56.203125 41.796875 56.203125 29.59375 \nz\nM 47.21875 32.234375 \nQ 47.125 39.59375 43.09375 43.984375 \nQ 39.0625 48.390625 32.421875 48.390625 \nQ 24.90625 48.390625 20.390625 44.140625 \nQ 15.875 39.890625 15.1875 32.171875 \nz\n\" id=\"DejaVuSans-101\"/>\n       <path d=\"M 50.984375 -16.609375 \nL 50.984375 -23.578125 \nL -0.984375 -23.578125 \nL -0.984375 -16.609375 \nz\n\" id=\"DejaVuSans-95\"/>\n       <path d=\"M 34.28125 27.484375 \nQ 23.390625 27.484375 19.1875 25 \nQ 14.984375 22.515625 14.984375 16.5 \nQ 14.984375 11.71875 18.140625 8.90625 \nQ 21.296875 6.109375 26.703125 6.109375 \nQ 34.1875 6.109375 38.703125 11.40625 \nQ 43.21875 16.703125 43.21875 25.484375 \nL 43.21875 27.484375 \nz\nM 52.203125 31.203125 \nL 52.203125 0 \nL 43.21875 0 \nL 43.21875 8.296875 \nQ 40.140625 3.328125 35.546875 0.953125 \nQ 30.953125 -1.421875 24.3125 -1.421875 \nQ 15.921875 -1.421875 10.953125 3.296875 \nQ 6 8.015625 6 15.921875 \nQ 6 25.140625 12.171875 29.828125 \nQ 18.359375 34.515625 30.609375 34.515625 \nL 43.21875 34.515625 \nL 43.21875 35.40625 \nQ 43.21875 41.609375 39.140625 45 \nQ 35.0625 48.390625 27.6875 48.390625 \nQ 23 48.390625 18.546875 47.265625 \nQ 14.109375 46.140625 10.015625 43.890625 \nL 10.015625 52.203125 \nQ 14.9375 54.109375 19.578125 55.046875 \nQ 24.21875 56 28.609375 56 \nQ 40.484375 56 46.34375 49.84375 \nQ 52.203125 43.703125 52.203125 31.203125 \nz\n\" id=\"DejaVuSans-97\"/>\n       <path d=\"M 52 44.1875 \nQ 55.375 50.25 60.0625 53.125 \nQ 64.75 56 71.09375 56 \nQ 79.640625 56 84.28125 50.015625 \nQ 88.921875 44.046875 88.921875 33.015625 \nL 88.921875 0 \nL 79.890625 0 \nL 79.890625 32.71875 \nQ 79.890625 40.578125 77.09375 44.375 \nQ 74.3125 48.1875 68.609375 48.1875 \nQ 61.625 48.1875 57.5625 43.546875 \nQ 53.515625 38.921875 53.515625 30.90625 \nL 53.515625 0 \nL 44.484375 0 \nL 44.484375 32.71875 \nQ 44.484375 40.625 41.703125 44.40625 \nQ 38.921875 48.1875 33.109375 48.1875 \nQ 26.21875 48.1875 22.15625 43.53125 \nQ 18.109375 38.875 18.109375 30.90625 \nL 18.109375 0 \nL 9.078125 0 \nL 9.078125 54.6875 \nL 18.109375 54.6875 \nL 18.109375 46.1875 \nQ 21.1875 51.21875 25.484375 53.609375 \nQ 29.78125 56 35.6875 56 \nQ 41.65625 56 45.828125 52.96875 \nQ 50 49.953125 52 44.1875 \nz\n\" id=\"DejaVuSans-109\"/>\n       <path d=\"M 8.5 21.578125 \nL 8.5 54.6875 \nL 17.484375 54.6875 \nL 17.484375 21.921875 \nQ 17.484375 14.15625 20.5 10.265625 \nQ 23.53125 6.390625 29.59375 6.390625 \nQ 36.859375 6.390625 41.078125 11.03125 \nQ 45.3125 15.671875 45.3125 23.6875 \nL 45.3125 54.6875 \nL 54.296875 54.6875 \nL 54.296875 0 \nL 45.3125 0 \nL 45.3125 8.40625 \nQ 42.046875 3.421875 37.71875 1 \nQ 33.40625 -1.421875 27.6875 -1.421875 \nQ 18.265625 -1.421875 13.375 4.4375 \nQ 8.5 10.296875 8.5 21.578125 \nz\nM 31.109375 56 \nz\n\" id=\"DejaVuSans-117\"/>\n       <path d=\"M 54.890625 33.015625 \nL 54.890625 0 \nL 45.90625 0 \nL 45.90625 32.71875 \nQ 45.90625 40.484375 42.875 44.328125 \nQ 39.84375 48.1875 33.796875 48.1875 \nQ 26.515625 48.1875 22.3125 43.546875 \nQ 18.109375 38.921875 18.109375 30.90625 \nL 18.109375 0 \nL 9.078125 0 \nL 9.078125 54.6875 \nL 18.109375 54.6875 \nL 18.109375 46.1875 \nQ 21.34375 51.125 25.703125 53.5625 \nQ 30.078125 56 35.796875 56 \nQ 45.21875 56 50.046875 50.171875 \nQ 54.890625 44.34375 54.890625 33.015625 \nz\n\" id=\"DejaVuSans-110\"/>\n       <path d=\"M 18.3125 70.21875 \nL 18.3125 54.6875 \nL 36.8125 54.6875 \nL 36.8125 47.703125 \nL 18.3125 47.703125 \nL 18.3125 18.015625 \nQ 18.3125 11.328125 20.140625 9.421875 \nQ 21.96875 7.515625 27.59375 7.515625 \nL 36.8125 7.515625 \nL 36.8125 0 \nL 27.59375 0 \nQ 17.1875 0 13.234375 3.875 \nQ 9.28125 7.765625 9.28125 18.015625 \nL 9.28125 47.703125 \nL 2.6875 47.703125 \nL 2.6875 54.6875 \nL 9.28125 54.6875 \nL 9.28125 70.21875 \nz\n\" id=\"DejaVuSans-116\"/>\n      </defs>\n      <g transform=\"translate(184.563281 239.238437)scale(0.1 -0.1)\">\n       <use xlink:href=\"#DejaVuSans-111\"/>\n       <use x=\"61.181641\" xlink:href=\"#DejaVuSans-114\"/>\n       <use x=\"102.279297\" xlink:href=\"#DejaVuSans-100\"/>\n       <use x=\"165.755859\" xlink:href=\"#DejaVuSans-101\"/>\n       <use x=\"227.279297\" xlink:href=\"#DejaVuSans-114\"/>\n       <use x=\"268.392578\" xlink:href=\"#DejaVuSans-95\"/>\n       <use x=\"318.392578\" xlink:href=\"#DejaVuSans-97\"/>\n       <use x=\"379.671875\" xlink:href=\"#DejaVuSans-109\"/>\n       <use x=\"477.083984\" xlink:href=\"#DejaVuSans-111\"/>\n       <use x=\"538.265625\" xlink:href=\"#DejaVuSans-117\"/>\n       <use x=\"601.644531\" xlink:href=\"#DejaVuSans-110\"/>\n       <use x=\"665.023438\" xlink:href=\"#DejaVuSans-116\"/>\n      </g>\n     </g>\n    </g>\n   </g>\n   <g id=\"matplotlib.axis_2\">\n    <g id=\"ytick_1\">\n     <g id=\"line2d_3\">\n      <path clip-path=\"url(#pea970b6de5)\" d=\"M 52.375 214.781638 \nL 387.175 214.781638 \n\" style=\"fill:none;stroke:#b0b0b0;stroke-linecap:square;stroke-width:0.8;\"/>\n     </g>\n     <g id=\"line2d_4\">\n      <defs>\n       <path d=\"M 0 0 \nL -3.5 0 \n\" id=\"me359f0ac85\" style=\"stroke:#000000;stroke-width:0.8;\"/>\n      </defs>\n      <g>\n       <use style=\"stroke:#000000;stroke-width:0.8;\" x=\"52.375\" xlink:href=\"#me359f0ac85\" y=\"214.781638\"/>\n      </g>\n     </g>\n     <g id=\"text_2\">\n      <!-- 0 -->\n      <defs>\n       <path d=\"M 31.78125 66.40625 \nQ 24.171875 66.40625 20.328125 58.90625 \nQ 16.5 51.421875 16.5 36.375 \nQ 16.5 21.390625 20.328125 13.890625 \nQ 24.171875 6.390625 31.78125 6.390625 \nQ 39.453125 6.390625 43.28125 13.890625 \nQ 47.125 21.390625 47.125 36.375 \nQ 47.125 51.421875 43.28125 58.90625 \nQ 39.453125 66.40625 31.78125 66.40625 \nz\nM 31.78125 74.21875 \nQ 44.046875 74.21875 50.515625 64.515625 \nQ 56.984375 54.828125 56.984375 36.375 \nQ 56.984375 17.96875 50.515625 8.265625 \nQ 44.046875 -1.421875 31.78125 -1.421875 \nQ 19.53125 -1.421875 13.0625 8.265625 \nQ 6.59375 17.96875 6.59375 36.375 \nQ 6.59375 54.828125 13.0625 64.515625 \nQ 19.53125 74.21875 31.78125 74.21875 \nz\n\" id=\"DejaVuSans-48\"/>\n      </defs>\n      <g transform=\"translate(39.0125 218.580856)scale(0.1 -0.1)\">\n       <use xlink:href=\"#DejaVuSans-48\"/>\n      </g>\n     </g>\n    </g>\n    <g id=\"ytick_2\">\n     <g id=\"line2d_5\">\n      <path clip-path=\"url(#pea970b6de5)\" d=\"M 52.375 186.699535 \nL 387.175 186.699535 \n\" style=\"fill:none;stroke:#b0b0b0;stroke-linecap:square;stroke-width:0.8;\"/>\n     </g>\n     <g id=\"line2d_6\">\n      <g>\n       <use style=\"stroke:#000000;stroke-width:0.8;\" x=\"52.375\" xlink:href=\"#me359f0ac85\" y=\"186.699535\"/>\n      </g>\n     </g>\n     <g id=\"text_3\">\n      <!-- 100000 -->\n      <defs>\n       <path d=\"M 12.40625 8.296875 \nL 28.515625 8.296875 \nL 28.515625 63.921875 \nL 10.984375 60.40625 \nL 10.984375 69.390625 \nL 28.421875 72.90625 \nL 38.28125 72.90625 \nL 38.28125 8.296875 \nL 54.390625 8.296875 \nL 54.390625 0 \nL 12.40625 0 \nz\n\" id=\"DejaVuSans-49\"/>\n      </defs>\n      <g transform=\"translate(7.2 190.498754)scale(0.1 -0.1)\">\n       <use xlink:href=\"#DejaVuSans-49\"/>\n       <use x=\"63.623047\" xlink:href=\"#DejaVuSans-48\"/>\n       <use x=\"127.246094\" xlink:href=\"#DejaVuSans-48\"/>\n       <use x=\"190.869141\" xlink:href=\"#DejaVuSans-48\"/>\n       <use x=\"254.492188\" xlink:href=\"#DejaVuSans-48\"/>\n       <use x=\"318.115234\" xlink:href=\"#DejaVuSans-48\"/>\n      </g>\n     </g>\n    </g>\n    <g id=\"ytick_3\">\n     <g id=\"line2d_7\">\n      <path clip-path=\"url(#pea970b6de5)\" d=\"M 52.375 158.617433 \nL 387.175 158.617433 \n\" style=\"fill:none;stroke:#b0b0b0;stroke-linecap:square;stroke-width:0.8;\"/>\n     </g>\n     <g id=\"line2d_8\">\n      <g>\n       <use style=\"stroke:#000000;stroke-width:0.8;\" x=\"52.375\" xlink:href=\"#me359f0ac85\" y=\"158.617433\"/>\n      </g>\n     </g>\n     <g id=\"text_4\">\n      <!-- 200000 -->\n      <defs>\n       <path d=\"M 19.1875 8.296875 \nL 53.609375 8.296875 \nL 53.609375 0 \nL 7.328125 0 \nL 7.328125 8.296875 \nQ 12.9375 14.109375 22.625 23.890625 \nQ 32.328125 33.6875 34.8125 36.53125 \nQ 39.546875 41.84375 41.421875 45.53125 \nQ 43.3125 49.21875 43.3125 52.78125 \nQ 43.3125 58.59375 39.234375 62.25 \nQ 35.15625 65.921875 28.609375 65.921875 \nQ 23.96875 65.921875 18.8125 64.3125 \nQ 13.671875 62.703125 7.8125 59.421875 \nL 7.8125 69.390625 \nQ 13.765625 71.78125 18.9375 73 \nQ 24.125 74.21875 28.421875 74.21875 \nQ 39.75 74.21875 46.484375 68.546875 \nQ 53.21875 62.890625 53.21875 53.421875 \nQ 53.21875 48.921875 51.53125 44.890625 \nQ 49.859375 40.875 45.40625 35.40625 \nQ 44.1875 33.984375 37.640625 27.21875 \nQ 31.109375 20.453125 19.1875 8.296875 \nz\n\" id=\"DejaVuSans-50\"/>\n      </defs>\n      <g transform=\"translate(7.2 162.416651)scale(0.1 -0.1)\">\n       <use xlink:href=\"#DejaVuSans-50\"/>\n       <use x=\"63.623047\" xlink:href=\"#DejaVuSans-48\"/>\n       <use x=\"127.246094\" xlink:href=\"#DejaVuSans-48\"/>\n       <use x=\"190.869141\" xlink:href=\"#DejaVuSans-48\"/>\n       <use x=\"254.492188\" xlink:href=\"#DejaVuSans-48\"/>\n       <use x=\"318.115234\" xlink:href=\"#DejaVuSans-48\"/>\n      </g>\n     </g>\n    </g>\n    <g id=\"ytick_4\">\n     <g id=\"line2d_9\">\n      <path clip-path=\"url(#pea970b6de5)\" d=\"M 52.375 130.53533 \nL 387.175 130.53533 \n\" style=\"fill:none;stroke:#b0b0b0;stroke-linecap:square;stroke-width:0.8;\"/>\n     </g>\n     <g id=\"line2d_10\">\n      <g>\n       <use style=\"stroke:#000000;stroke-width:0.8;\" x=\"52.375\" xlink:href=\"#me359f0ac85\" y=\"130.53533\"/>\n      </g>\n     </g>\n     <g id=\"text_5\">\n      <!-- 300000 -->\n      <defs>\n       <path d=\"M 40.578125 39.3125 \nQ 47.65625 37.796875 51.625 33 \nQ 55.609375 28.21875 55.609375 21.1875 \nQ 55.609375 10.40625 48.1875 4.484375 \nQ 40.765625 -1.421875 27.09375 -1.421875 \nQ 22.515625 -1.421875 17.65625 -0.515625 \nQ 12.796875 0.390625 7.625 2.203125 \nL 7.625 11.71875 \nQ 11.71875 9.328125 16.59375 8.109375 \nQ 21.484375 6.890625 26.8125 6.890625 \nQ 36.078125 6.890625 40.9375 10.546875 \nQ 45.796875 14.203125 45.796875 21.1875 \nQ 45.796875 27.640625 41.28125 31.265625 \nQ 36.765625 34.90625 28.71875 34.90625 \nL 20.21875 34.90625 \nL 20.21875 43.015625 \nL 29.109375 43.015625 \nQ 36.375 43.015625 40.234375 45.921875 \nQ 44.09375 48.828125 44.09375 54.296875 \nQ 44.09375 59.90625 40.109375 62.90625 \nQ 36.140625 65.921875 28.71875 65.921875 \nQ 24.65625 65.921875 20.015625 65.03125 \nQ 15.375 64.15625 9.8125 62.3125 \nL 9.8125 71.09375 \nQ 15.4375 72.65625 20.34375 73.4375 \nQ 25.25 74.21875 29.59375 74.21875 \nQ 40.828125 74.21875 47.359375 69.109375 \nQ 53.90625 64.015625 53.90625 55.328125 \nQ 53.90625 49.265625 50.4375 45.09375 \nQ 46.96875 40.921875 40.578125 39.3125 \nz\n\" id=\"DejaVuSans-51\"/>\n      </defs>\n      <g transform=\"translate(7.2 134.334549)scale(0.1 -0.1)\">\n       <use xlink:href=\"#DejaVuSans-51\"/>\n       <use x=\"63.623047\" xlink:href=\"#DejaVuSans-48\"/>\n       <use x=\"127.246094\" xlink:href=\"#DejaVuSans-48\"/>\n       <use x=\"190.869141\" xlink:href=\"#DejaVuSans-48\"/>\n       <use x=\"254.492188\" xlink:href=\"#DejaVuSans-48\"/>\n       <use x=\"318.115234\" xlink:href=\"#DejaVuSans-48\"/>\n      </g>\n     </g>\n    </g>\n    <g id=\"ytick_5\">\n     <g id=\"line2d_11\">\n      <path clip-path=\"url(#pea970b6de5)\" d=\"M 52.375 102.453228 \nL 387.175 102.453228 \n\" style=\"fill:none;stroke:#b0b0b0;stroke-linecap:square;stroke-width:0.8;\"/>\n     </g>\n     <g id=\"line2d_12\">\n      <g>\n       <use style=\"stroke:#000000;stroke-width:0.8;\" x=\"52.375\" xlink:href=\"#me359f0ac85\" y=\"102.453228\"/>\n      </g>\n     </g>\n     <g id=\"text_6\">\n      <!-- 400000 -->\n      <defs>\n       <path d=\"M 37.796875 64.3125 \nL 12.890625 25.390625 \nL 37.796875 25.390625 \nz\nM 35.203125 72.90625 \nL 47.609375 72.90625 \nL 47.609375 25.390625 \nL 58.015625 25.390625 \nL 58.015625 17.1875 \nL 47.609375 17.1875 \nL 47.609375 0 \nL 37.796875 0 \nL 37.796875 17.1875 \nL 4.890625 17.1875 \nL 4.890625 26.703125 \nz\n\" id=\"DejaVuSans-52\"/>\n      </defs>\n      <g transform=\"translate(7.2 106.252447)scale(0.1 -0.1)\">\n       <use xlink:href=\"#DejaVuSans-52\"/>\n       <use x=\"63.623047\" xlink:href=\"#DejaVuSans-48\"/>\n       <use x=\"127.246094\" xlink:href=\"#DejaVuSans-48\"/>\n       <use x=\"190.869141\" xlink:href=\"#DejaVuSans-48\"/>\n       <use x=\"254.492188\" xlink:href=\"#DejaVuSans-48\"/>\n       <use x=\"318.115234\" xlink:href=\"#DejaVuSans-48\"/>\n      </g>\n     </g>\n    </g>\n    <g id=\"ytick_6\">\n     <g id=\"line2d_13\">\n      <path clip-path=\"url(#pea970b6de5)\" d=\"M 52.375 74.371125 \nL 387.175 74.371125 \n\" style=\"fill:none;stroke:#b0b0b0;stroke-linecap:square;stroke-width:0.8;\"/>\n     </g>\n     <g id=\"line2d_14\">\n      <g>\n       <use style=\"stroke:#000000;stroke-width:0.8;\" x=\"52.375\" xlink:href=\"#me359f0ac85\" y=\"74.371125\"/>\n      </g>\n     </g>\n     <g id=\"text_7\">\n      <!-- 500000 -->\n      <defs>\n       <path d=\"M 10.796875 72.90625 \nL 49.515625 72.90625 \nL 49.515625 64.59375 \nL 19.828125 64.59375 \nL 19.828125 46.734375 \nQ 21.96875 47.46875 24.109375 47.828125 \nQ 26.265625 48.1875 28.421875 48.1875 \nQ 40.625 48.1875 47.75 41.5 \nQ 54.890625 34.8125 54.890625 23.390625 \nQ 54.890625 11.625 47.5625 5.09375 \nQ 40.234375 -1.421875 26.90625 -1.421875 \nQ 22.3125 -1.421875 17.546875 -0.640625 \nQ 12.796875 0.140625 7.71875 1.703125 \nL 7.71875 11.625 \nQ 12.109375 9.234375 16.796875 8.0625 \nQ 21.484375 6.890625 26.703125 6.890625 \nQ 35.15625 6.890625 40.078125 11.328125 \nQ 45.015625 15.765625 45.015625 23.390625 \nQ 45.015625 31 40.078125 35.4375 \nQ 35.15625 39.890625 26.703125 39.890625 \nQ 22.75 39.890625 18.8125 39.015625 \nQ 14.890625 38.140625 10.796875 36.28125 \nz\n\" id=\"DejaVuSans-53\"/>\n      </defs>\n      <g transform=\"translate(7.2 78.170344)scale(0.1 -0.1)\">\n       <use xlink:href=\"#DejaVuSans-53\"/>\n       <use x=\"63.623047\" xlink:href=\"#DejaVuSans-48\"/>\n       <use x=\"127.246094\" xlink:href=\"#DejaVuSans-48\"/>\n       <use x=\"190.869141\" xlink:href=\"#DejaVuSans-48\"/>\n       <use x=\"254.492188\" xlink:href=\"#DejaVuSans-48\"/>\n       <use x=\"318.115234\" xlink:href=\"#DejaVuSans-48\"/>\n      </g>\n     </g>\n    </g>\n    <g id=\"ytick_7\">\n     <g id=\"line2d_15\">\n      <path clip-path=\"url(#pea970b6de5)\" d=\"M 52.375 46.289023 \nL 387.175 46.289023 \n\" style=\"fill:none;stroke:#b0b0b0;stroke-linecap:square;stroke-width:0.8;\"/>\n     </g>\n     <g id=\"line2d_16\">\n      <g>\n       <use style=\"stroke:#000000;stroke-width:0.8;\" x=\"52.375\" xlink:href=\"#me359f0ac85\" y=\"46.289023\"/>\n      </g>\n     </g>\n     <g id=\"text_8\">\n      <!-- 600000 -->\n      <defs>\n       <path d=\"M 33.015625 40.375 \nQ 26.375 40.375 22.484375 35.828125 \nQ 18.609375 31.296875 18.609375 23.390625 \nQ 18.609375 15.53125 22.484375 10.953125 \nQ 26.375 6.390625 33.015625 6.390625 \nQ 39.65625 6.390625 43.53125 10.953125 \nQ 47.40625 15.53125 47.40625 23.390625 \nQ 47.40625 31.296875 43.53125 35.828125 \nQ 39.65625 40.375 33.015625 40.375 \nz\nM 52.59375 71.296875 \nL 52.59375 62.3125 \nQ 48.875 64.0625 45.09375 64.984375 \nQ 41.3125 65.921875 37.59375 65.921875 \nQ 27.828125 65.921875 22.671875 59.328125 \nQ 17.53125 52.734375 16.796875 39.40625 \nQ 19.671875 43.65625 24.015625 45.921875 \nQ 28.375 48.1875 33.59375 48.1875 \nQ 44.578125 48.1875 50.953125 41.515625 \nQ 57.328125 34.859375 57.328125 23.390625 \nQ 57.328125 12.15625 50.6875 5.359375 \nQ 44.046875 -1.421875 33.015625 -1.421875 \nQ 20.359375 -1.421875 13.671875 8.265625 \nQ 6.984375 17.96875 6.984375 36.375 \nQ 6.984375 53.65625 15.1875 63.9375 \nQ 23.390625 74.21875 37.203125 74.21875 \nQ 40.921875 74.21875 44.703125 73.484375 \nQ 48.484375 72.75 52.59375 71.296875 \nz\n\" id=\"DejaVuSans-54\"/>\n      </defs>\n      <g transform=\"translate(7.2 50.088242)scale(0.1 -0.1)\">\n       <use xlink:href=\"#DejaVuSans-54\"/>\n       <use x=\"63.623047\" xlink:href=\"#DejaVuSans-48\"/>\n       <use x=\"127.246094\" xlink:href=\"#DejaVuSans-48\"/>\n       <use x=\"190.869141\" xlink:href=\"#DejaVuSans-48\"/>\n       <use x=\"254.492188\" xlink:href=\"#DejaVuSans-48\"/>\n       <use x=\"318.115234\" xlink:href=\"#DejaVuSans-48\"/>\n      </g>\n     </g>\n    </g>\n    <g id=\"ytick_8\">\n     <g id=\"line2d_17\">\n      <path clip-path=\"url(#pea970b6de5)\" d=\"M 52.375 18.20692 \nL 387.175 18.20692 \n\" style=\"fill:none;stroke:#b0b0b0;stroke-linecap:square;stroke-width:0.8;\"/>\n     </g>\n     <g id=\"line2d_18\">\n      <g>\n       <use style=\"stroke:#000000;stroke-width:0.8;\" x=\"52.375\" xlink:href=\"#me359f0ac85\" y=\"18.20692\"/>\n      </g>\n     </g>\n     <g id=\"text_9\">\n      <!-- 700000 -->\n      <defs>\n       <path d=\"M 8.203125 72.90625 \nL 55.078125 72.90625 \nL 55.078125 68.703125 \nL 28.609375 0 \nL 18.3125 0 \nL 43.21875 64.59375 \nL 8.203125 64.59375 \nz\n\" id=\"DejaVuSans-55\"/>\n      </defs>\n      <g transform=\"translate(7.2 22.006139)scale(0.1 -0.1)\">\n       <use xlink:href=\"#DejaVuSans-55\"/>\n       <use x=\"63.623047\" xlink:href=\"#DejaVuSans-48\"/>\n       <use x=\"127.246094\" xlink:href=\"#DejaVuSans-48\"/>\n       <use x=\"190.869141\" xlink:href=\"#DejaVuSans-48\"/>\n       <use x=\"254.492188\" xlink:href=\"#DejaVuSans-48\"/>\n       <use x=\"318.115234\" xlink:href=\"#DejaVuSans-48\"/>\n      </g>\n     </g>\n    </g>\n   </g>\n   <g id=\"line2d_19\">\n    <path clip-path=\"url(#pea970b6de5)\" d=\"M 194.665 214.735864 \nL 244.885 214.735864 \nL 244.885 214.672117 \nL 194.665 214.672117 \nL 194.665 214.735864 \n\" style=\"fill:none;stroke:#1f77b4;stroke-linecap:square;\"/>\n   </g>\n   <g id=\"line2d_20\">\n    <path clip-path=\"url(#pea970b6de5)\" d=\"M 219.775 214.735864 \nL 219.775 214.756364 \n\" style=\"fill:none;stroke:#1f77b4;stroke-linecap:square;\"/>\n   </g>\n   <g id=\"line2d_21\">\n    <path clip-path=\"url(#pea970b6de5)\" d=\"M 219.775 214.672117 \nL 219.775 214.576638 \n\" style=\"fill:none;stroke:#1f77b4;stroke-linecap:square;\"/>\n   </g>\n   <g id=\"line2d_22\">\n    <path clip-path=\"url(#pea970b6de5)\" d=\"M 207.22 214.756364 \nL 232.33 214.756364 \n\" style=\"fill:none;stroke:#000000;stroke-linecap:square;\"/>\n   </g>\n   <g id=\"line2d_23\">\n    <path clip-path=\"url(#pea970b6de5)\" d=\"M 207.22 214.576638 \nL 232.33 214.576638 \n\" style=\"fill:none;stroke:#000000;stroke-linecap:square;\"/>\n   </g>\n   <g id=\"line2d_24\">\n    <defs>\n     <path d=\"M 0 3 \nC 0.795609 3 1.55874 2.683901 2.12132 2.12132 \nC 2.683901 1.55874 3 0.795609 3 0 \nC 3 -0.795609 2.683901 -1.55874 2.12132 -2.12132 \nC 1.55874 -2.683901 0.795609 -3 0 -3 \nC -0.795609 -3 -1.55874 -2.683901 -2.12132 -2.12132 \nC -2.683901 -1.55874 -3 -0.795609 -3 0 \nC -3 0.795609 -2.683901 1.55874 -2.12132 2.12132 \nC -1.55874 2.683901 -0.795609 3 0 3 \nz\n\" id=\"m856b702cfd\" style=\"stroke:#000000;\"/>\n    </defs>\n    <g clip-path=\"url(#pea970b6de5)\">\n     <use style=\"fill-opacity:0;stroke:#000000;\" x=\"219.775\" xlink:href=\"#m856b702cfd\" y=\"17.083636\"/>\n     <use style=\"fill-opacity:0;stroke:#000000;\" x=\"219.775\" xlink:href=\"#m856b702cfd\" y=\"17.083636\"/>\n     <use style=\"fill-opacity:0;stroke:#000000;\" x=\"219.775\" xlink:href=\"#m856b702cfd\" y=\"214.562597\"/>\n     <use style=\"fill-opacity:0;stroke:#000000;\" x=\"219.775\" xlink:href=\"#m856b702cfd\" y=\"214.566809\"/>\n     <use style=\"fill-opacity:0;stroke:#000000;\" x=\"219.775\" xlink:href=\"#m856b702cfd\" y=\"207.557517\"/>\n     <use style=\"fill-opacity:0;stroke:#000000;\" x=\"219.775\" xlink:href=\"#m856b702cfd\" y=\"214.562597\"/>\n     <use style=\"fill-opacity:0;stroke:#000000;\" x=\"219.775\" xlink:href=\"#m856b702cfd\" y=\"214.566809\"/>\n     <use style=\"fill-opacity:0;stroke:#000000;\" x=\"219.775\" xlink:href=\"#m856b702cfd\" y=\"214.562597\"/>\n     <use style=\"fill-opacity:0;stroke:#000000;\" x=\"219.775\" xlink:href=\"#m856b702cfd\" y=\"214.562597\"/>\n     <use style=\"fill-opacity:0;stroke:#000000;\" x=\"219.775\" xlink:href=\"#m856b702cfd\" y=\"200.333396\"/>\n     <use style=\"fill-opacity:0;stroke:#000000;\" x=\"219.775\" xlink:href=\"#m856b702cfd\" y=\"200.333396\"/>\n     <use style=\"fill-opacity:0;stroke:#000000;\" x=\"219.775\" xlink:href=\"#m856b702cfd\" y=\"200.333396\"/>\n     <use style=\"fill-opacity:0;stroke:#000000;\" x=\"219.775\" xlink:href=\"#m856b702cfd\" y=\"17.083636\"/>\n     <use style=\"fill-opacity:0;stroke:#000000;\" x=\"219.775\" xlink:href=\"#m856b702cfd\" y=\"214.548556\"/>\n     <use style=\"fill-opacity:0;stroke:#000000;\" x=\"219.775\" xlink:href=\"#m856b702cfd\" y=\"200.333396\"/>\n     <use style=\"fill-opacity:0;stroke:#000000;\" x=\"219.775\" xlink:href=\"#m856b702cfd\" y=\"214.571583\"/>\n     <use style=\"fill-opacity:0;stroke:#000000;\" x=\"219.775\" xlink:href=\"#m856b702cfd\" y=\"171.436912\"/>\n     <use style=\"fill-opacity:0;stroke:#000000;\" x=\"219.775\" xlink:href=\"#m856b702cfd\" y=\"214.564844\"/>\n     <use style=\"fill-opacity:0;stroke:#000000;\" x=\"219.775\" xlink:href=\"#m856b702cfd\" y=\"214.555857\"/>\n     <use style=\"fill-opacity:0;stroke:#000000;\" x=\"219.775\" xlink:href=\"#m856b702cfd\" y=\"214.552768\"/>\n     <use style=\"fill-opacity:0;stroke:#000000;\" x=\"219.775\" xlink:href=\"#m856b702cfd\" y=\"214.533111\"/>\n     <use style=\"fill-opacity:0;stroke:#000000;\" x=\"219.775\" xlink:href=\"#m856b702cfd\" y=\"214.485091\"/>\n     <use style=\"fill-opacity:0;stroke:#000000;\" x=\"219.775\" xlink:href=\"#m856b702cfd\" y=\"214.561474\"/>\n     <use style=\"fill-opacity:0;stroke:#000000;\" x=\"219.775\" xlink:href=\"#m856b702cfd\" y=\"207.557517\"/>\n     <use style=\"fill-opacity:0;stroke:#000000;\" x=\"219.775\" xlink:href=\"#m856b702cfd\" y=\"17.083636\"/>\n     <use style=\"fill-opacity:0;stroke:#000000;\" x=\"219.775\" xlink:href=\"#m856b702cfd\" y=\"214.552768\"/>\n     <use style=\"fill-opacity:0;stroke:#000000;\" x=\"219.775\" xlink:href=\"#m856b702cfd\" y=\"214.533111\"/>\n     <use style=\"fill-opacity:0;stroke:#000000;\" x=\"219.775\" xlink:href=\"#m856b702cfd\" y=\"207.557517\"/>\n     <use style=\"fill-opacity:0;stroke:#000000;\" x=\"219.775\" xlink:href=\"#m856b702cfd\" y=\"207.557517\"/>\n     <use style=\"fill-opacity:0;stroke:#000000;\" x=\"219.775\" xlink:href=\"#m856b702cfd\" y=\"214.51907\"/>\n     <use style=\"fill-opacity:0;stroke:#000000;\" x=\"219.775\" xlink:href=\"#m856b702cfd\" y=\"193.109275\"/>\n     <use style=\"fill-opacity:0;stroke:#000000;\" x=\"219.775\" xlink:href=\"#m856b702cfd\" y=\"17.083636\"/>\n     <use style=\"fill-opacity:0;stroke:#000000;\" x=\"219.775\" xlink:href=\"#m856b702cfd\" y=\"214.287393\"/>\n     <use style=\"fill-opacity:0;stroke:#000000;\" x=\"219.775\" xlink:href=\"#m856b702cfd\" y=\"214.386242\"/>\n     <use style=\"fill-opacity:0;stroke:#000000;\" x=\"219.775\" xlink:href=\"#m856b702cfd\" y=\"207.557517\"/>\n     <use style=\"fill-opacity:0;stroke:#000000;\" x=\"219.775\" xlink:href=\"#m856b702cfd\" y=\"207.557517\"/>\n     <use style=\"fill-opacity:0;stroke:#000000;\" x=\"219.775\" xlink:href=\"#m856b702cfd\" y=\"17.083636\"/>\n     <use style=\"fill-opacity:0;stroke:#000000;\" x=\"219.775\" xlink:href=\"#m856b702cfd\" y=\"207.557517\"/>\n     <use style=\"fill-opacity:0;stroke:#000000;\" x=\"219.775\" xlink:href=\"#m856b702cfd\" y=\"214.386242\"/>\n     <use style=\"fill-opacity:0;stroke:#000000;\" x=\"219.775\" xlink:href=\"#m856b702cfd\" y=\"214.566809\"/>\n     <use style=\"fill-opacity:0;stroke:#000000;\" x=\"219.775\" xlink:href=\"#m856b702cfd\" y=\"214.574953\"/>\n     <use style=\"fill-opacity:0;stroke:#000000;\" x=\"219.775\" xlink:href=\"#m856b702cfd\" y=\"200.333396\"/>\n     <use style=\"fill-opacity:0;stroke:#000000;\" x=\"219.775\" xlink:href=\"#m856b702cfd\" y=\"17.083636\"/>\n     <use style=\"fill-opacity:0;stroke:#000000;\" x=\"219.775\" xlink:href=\"#m856b702cfd\" y=\"214.512049\"/>\n     <use style=\"fill-opacity:0;stroke:#000000;\" x=\"219.775\" xlink:href=\"#m856b702cfd\" y=\"17.083636\"/>\n     <use style=\"fill-opacity:0;stroke:#000000;\" x=\"219.775\" xlink:href=\"#m856b702cfd\" y=\"214.556981\"/>\n     <use style=\"fill-opacity:0;stroke:#000000;\" x=\"219.775\" xlink:href=\"#m856b702cfd\" y=\"214.555857\"/>\n     <use style=\"fill-opacity:0;stroke:#000000;\" x=\"219.775\" xlink:href=\"#m856b702cfd\" y=\"214.556981\"/>\n     <use style=\"fill-opacity:0;stroke:#000000;\" x=\"219.775\" xlink:href=\"#m856b702cfd\" y=\"214.538727\"/>\n     <use style=\"fill-opacity:0;stroke:#000000;\" x=\"219.775\" xlink:href=\"#m856b702cfd\" y=\"214.572426\"/>\n     <use style=\"fill-opacity:0;stroke:#000000;\" x=\"219.775\" xlink:href=\"#m856b702cfd\" y=\"214.548556\"/>\n     <use style=\"fill-opacity:0;stroke:#000000;\" x=\"219.775\" xlink:href=\"#m856b702cfd\" y=\"214.534515\"/>\n     <use style=\"fill-opacity:0;stroke:#000000;\" x=\"219.775\" xlink:href=\"#m856b702cfd\" y=\"214.523282\"/>\n     <use style=\"fill-opacity:0;stroke:#000000;\" x=\"219.775\" xlink:href=\"#m856b702cfd\" y=\"214.566809\"/>\n     <use style=\"fill-opacity:0;stroke:#000000;\" x=\"219.775\" xlink:href=\"#m856b702cfd\" y=\"214.564282\"/>\n     <use style=\"fill-opacity:0;stroke:#000000;\" x=\"219.775\" xlink:href=\"#m856b702cfd\" y=\"214.559789\"/>\n     <use style=\"fill-opacity:0;stroke:#000000;\" x=\"219.775\" xlink:href=\"#m856b702cfd\" y=\"214.561474\"/>\n     <use style=\"fill-opacity:0;stroke:#000000;\" x=\"219.775\" xlink:href=\"#m856b702cfd\" y=\"17.083636\"/>\n     <use style=\"fill-opacity:0;stroke:#000000;\" x=\"219.775\" xlink:href=\"#m856b702cfd\" y=\"207.557517\"/>\n     <use style=\"fill-opacity:0;stroke:#000000;\" x=\"219.775\" xlink:href=\"#m856b702cfd\" y=\"17.083636\"/>\n     <use style=\"fill-opacity:0;stroke:#000000;\" x=\"219.775\" xlink:href=\"#m856b702cfd\" y=\"214.515419\"/>\n     <use style=\"fill-opacity:0;stroke:#000000;\" x=\"219.775\" xlink:href=\"#m856b702cfd\" y=\"214.544344\"/>\n     <use style=\"fill-opacity:0;stroke:#000000;\" x=\"219.775\" xlink:href=\"#m856b702cfd\" y=\"214.568214\"/>\n     <use style=\"fill-opacity:0;stroke:#000000;\" x=\"219.775\" xlink:href=\"#m856b702cfd\" y=\"214.572426\"/>\n     <use style=\"fill-opacity:0;stroke:#000000;\" x=\"219.775\" xlink:href=\"#m856b702cfd\" y=\"200.333396\"/>\n     <use style=\"fill-opacity:0;stroke:#000000;\" x=\"219.775\" xlink:href=\"#m856b702cfd\" y=\"185.885154\"/>\n     <use style=\"fill-opacity:0;stroke:#000000;\" x=\"219.775\" xlink:href=\"#m856b702cfd\" y=\"214.510645\"/>\n     <use style=\"fill-opacity:0;stroke:#000000;\" x=\"219.775\" xlink:href=\"#m856b702cfd\" y=\"200.333396\"/>\n     <use style=\"fill-opacity:0;stroke:#000000;\" x=\"219.775\" xlink:href=\"#m856b702cfd\" y=\"200.333396\"/>\n     <use style=\"fill-opacity:0;stroke:#000000;\" x=\"219.775\" xlink:href=\"#m856b702cfd\" y=\"207.557517\"/>\n     <use style=\"fill-opacity:0;stroke:#000000;\" x=\"219.775\" xlink:href=\"#m856b702cfd\" y=\"214.51907\"/>\n     <use style=\"fill-opacity:0;stroke:#000000;\" x=\"219.775\" xlink:href=\"#m856b702cfd\" y=\"193.109275\"/>\n     <use style=\"fill-opacity:0;stroke:#000000;\" x=\"219.775\" xlink:href=\"#m856b702cfd\" y=\"214.562597\"/>\n     <use style=\"fill-opacity:0;stroke:#000000;\" x=\"219.775\" xlink:href=\"#m856b702cfd\" y=\"193.109275\"/>\n     <use style=\"fill-opacity:0;stroke:#000000;\" x=\"219.775\" xlink:href=\"#m856b702cfd\" y=\"214.555577\"/>\n     <use style=\"fill-opacity:0;stroke:#000000;\" x=\"219.775\" xlink:href=\"#m856b702cfd\" y=\"207.557517\"/>\n     <use style=\"fill-opacity:0;stroke:#000000;\" x=\"219.775\" xlink:href=\"#m856b702cfd\" y=\"200.333396\"/>\n     <use style=\"fill-opacity:0;stroke:#000000;\" x=\"219.775\" xlink:href=\"#m856b702cfd\" y=\"200.333396\"/>\n     <use style=\"fill-opacity:0;stroke:#000000;\" x=\"219.775\" xlink:href=\"#m856b702cfd\" y=\"17.083636\"/>\n     <use style=\"fill-opacity:0;stroke:#000000;\" x=\"219.775\" xlink:href=\"#m856b702cfd\" y=\"193.109275\"/>\n     <use style=\"fill-opacity:0;stroke:#000000;\" x=\"219.775\" xlink:href=\"#m856b702cfd\" y=\"207.557517\"/>\n     <use style=\"fill-opacity:0;stroke:#000000;\" x=\"219.775\" xlink:href=\"#m856b702cfd\" y=\"214.548556\"/>\n     <use style=\"fill-opacity:0;stroke:#000000;\" x=\"219.775\" xlink:href=\"#m856b702cfd\" y=\"17.083636\"/>\n     <use style=\"fill-opacity:0;stroke:#000000;\" x=\"219.775\" xlink:href=\"#m856b702cfd\" y=\"214.485091\"/>\n     <use style=\"fill-opacity:0;stroke:#000000;\" x=\"219.775\" xlink:href=\"#m856b702cfd\" y=\"214.531707\"/>\n     <use style=\"fill-opacity:0;stroke:#000000;\" x=\"219.775\" xlink:href=\"#m856b702cfd\" y=\"214.506433\"/>\n     <use style=\"fill-opacity:0;stroke:#000000;\" x=\"219.775\" xlink:href=\"#m856b702cfd\" y=\"207.557517\"/>\n     <use style=\"fill-opacity:0;stroke:#000000;\" x=\"219.775\" xlink:href=\"#m856b702cfd\" y=\"200.333396\"/>\n     <use style=\"fill-opacity:0;stroke:#000000;\" x=\"219.775\" xlink:href=\"#m856b702cfd\" y=\"214.568214\"/>\n     <use style=\"fill-opacity:0;stroke:#000000;\" x=\"219.775\" xlink:href=\"#m856b702cfd\" y=\"207.557517\"/>\n     <use style=\"fill-opacity:0;stroke:#000000;\" x=\"219.775\" xlink:href=\"#m856b702cfd\" y=\"200.333396\"/>\n     <use style=\"fill-opacity:0;stroke:#000000;\" x=\"219.775\" xlink:href=\"#m856b702cfd\" y=\"214.571583\"/>\n     <use style=\"fill-opacity:0;stroke:#000000;\" x=\"219.775\" xlink:href=\"#m856b702cfd\" y=\"214.560912\"/>\n     <use style=\"fill-opacity:0;stroke:#000000;\" x=\"219.775\" xlink:href=\"#m856b702cfd\" y=\"17.083636\"/>\n     <use style=\"fill-opacity:0;stroke:#000000;\" x=\"219.775\" xlink:href=\"#m856b702cfd\" y=\"193.109275\"/>\n     <use style=\"fill-opacity:0;stroke:#000000;\" x=\"219.775\" xlink:href=\"#m856b702cfd\" y=\"214.574953\"/>\n     <use style=\"fill-opacity:0;stroke:#000000;\" x=\"219.775\" xlink:href=\"#m856b702cfd\" y=\"214.555577\"/>\n     <use style=\"fill-opacity:0;stroke:#000000;\" x=\"219.775\" xlink:href=\"#m856b702cfd\" y=\"207.557517\"/>\n     <use style=\"fill-opacity:0;stroke:#000000;\" x=\"219.775\" xlink:href=\"#m856b702cfd\" y=\"214.485091\"/>\n     <use style=\"fill-opacity:0;stroke:#000000;\" x=\"219.775\" xlink:href=\"#m856b702cfd\" y=\"214.574953\"/>\n     <use style=\"fill-opacity:0;stroke:#000000;\" x=\"219.775\" xlink:href=\"#m856b702cfd\" y=\"214.51907\"/>\n     <use style=\"fill-opacity:0;stroke:#000000;\" x=\"219.775\" xlink:href=\"#m856b702cfd\" y=\"214.476666\"/>\n     <use style=\"fill-opacity:0;stroke:#000000;\" x=\"219.775\" xlink:href=\"#m856b702cfd\" y=\"214.574953\"/>\n     <use style=\"fill-opacity:0;stroke:#000000;\" x=\"219.775\" xlink:href=\"#m856b702cfd\" y=\"200.333396\"/>\n     <use style=\"fill-opacity:0;stroke:#000000;\" x=\"219.775\" xlink:href=\"#m856b702cfd\" y=\"193.109275\"/>\n     <use style=\"fill-opacity:0;stroke:#000000;\" x=\"219.775\" xlink:href=\"#m856b702cfd\" y=\"207.557517\"/>\n     <use style=\"fill-opacity:0;stroke:#000000;\" x=\"219.775\" xlink:href=\"#m856b702cfd\" y=\"214.552488\"/>\n     <use style=\"fill-opacity:0;stroke:#000000;\" x=\"219.775\" xlink:href=\"#m856b702cfd\" y=\"214.554172\"/>\n     <use style=\"fill-opacity:0;stroke:#000000;\" x=\"219.775\" xlink:href=\"#m856b702cfd\" y=\"214.57383\"/>\n     <use style=\"fill-opacity:0;stroke:#000000;\" x=\"219.775\" xlink:href=\"#m856b702cfd\" y=\"207.557517\"/>\n     <use style=\"fill-opacity:0;stroke:#000000;\" x=\"219.775\" xlink:href=\"#m856b702cfd\" y=\"17.083636\"/>\n     <use style=\"fill-opacity:0;stroke:#000000;\" x=\"219.775\" xlink:href=\"#m856b702cfd\" y=\"200.333396\"/>\n     <use style=\"fill-opacity:0;stroke:#000000;\" x=\"219.775\" xlink:href=\"#m856b702cfd\" y=\"214.482844\"/>\n     <use style=\"fill-opacity:0;stroke:#000000;\" x=\"219.775\" xlink:href=\"#m856b702cfd\" y=\"193.109275\"/>\n     <use style=\"fill-opacity:0;stroke:#000000;\" x=\"219.775\" xlink:href=\"#m856b702cfd\" y=\"214.562597\"/>\n     <use style=\"fill-opacity:0;stroke:#000000;\" x=\"219.775\" xlink:href=\"#m856b702cfd\" y=\"200.333396\"/>\n     <use style=\"fill-opacity:0;stroke:#000000;\" x=\"219.775\" xlink:href=\"#m856b702cfd\" y=\"200.333396\"/>\n     <use style=\"fill-opacity:0;stroke:#000000;\" x=\"219.775\" xlink:href=\"#m856b702cfd\" y=\"193.109275\"/>\n     <use style=\"fill-opacity:0;stroke:#000000;\" x=\"219.775\" xlink:href=\"#m856b702cfd\" y=\"214.575234\"/>\n     <use style=\"fill-opacity:0;stroke:#000000;\" x=\"219.775\" xlink:href=\"#m856b702cfd\" y=\"207.557517\"/>\n     <use style=\"fill-opacity:0;stroke:#000000;\" x=\"219.775\" xlink:href=\"#m856b702cfd\" y=\"214.568214\"/>\n     <use style=\"fill-opacity:0;stroke:#000000;\" x=\"219.775\" xlink:href=\"#m856b702cfd\" y=\"214.534515\"/>\n     <use style=\"fill-opacity:0;stroke:#000000;\" x=\"219.775\" xlink:href=\"#m856b702cfd\" y=\"214.562597\"/>\n     <use style=\"fill-opacity:0;stroke:#000000;\" x=\"219.775\" xlink:href=\"#m856b702cfd\" y=\"214.571583\"/>\n     <use style=\"fill-opacity:0;stroke:#000000;\" x=\"219.775\" xlink:href=\"#m856b702cfd\" y=\"214.571583\"/>\n     <use style=\"fill-opacity:0;stroke:#000000;\" x=\"219.775\" xlink:href=\"#m856b702cfd\" y=\"207.557517\"/>\n     <use style=\"fill-opacity:0;stroke:#000000;\" x=\"219.775\" xlink:href=\"#m856b702cfd\" y=\"214.571583\"/>\n     <use style=\"fill-opacity:0;stroke:#000000;\" x=\"219.775\" xlink:href=\"#m856b702cfd\" y=\"214.556981\"/>\n     <use style=\"fill-opacity:0;stroke:#000000;\" x=\"219.775\" xlink:href=\"#m856b702cfd\" y=\"17.083636\"/>\n     <use style=\"fill-opacity:0;stroke:#000000;\" x=\"219.775\" xlink:href=\"#m856b702cfd\" y=\"214.562597\"/>\n     <use style=\"fill-opacity:0;stroke:#000000;\" x=\"219.775\" xlink:href=\"#m856b702cfd\" y=\"193.109275\"/>\n     <use style=\"fill-opacity:0;stroke:#000000;\" x=\"219.775\" xlink:href=\"#m856b702cfd\" y=\"214.512049\"/>\n     <use style=\"fill-opacity:0;stroke:#000000;\" x=\"219.775\" xlink:href=\"#m856b702cfd\" y=\"17.083636\"/>\n     <use style=\"fill-opacity:0;stroke:#000000;\" x=\"219.775\" xlink:href=\"#m856b702cfd\" y=\"214.559789\"/>\n     <use style=\"fill-opacity:0;stroke:#000000;\" x=\"219.775\" xlink:href=\"#m856b702cfd\" y=\"17.083636\"/>\n     <use style=\"fill-opacity:0;stroke:#000000;\" x=\"219.775\" xlink:href=\"#m856b702cfd\" y=\"214.568214\"/>\n     <use style=\"fill-opacity:0;stroke:#000000;\" x=\"219.775\" xlink:href=\"#m856b702cfd\" y=\"207.557517\"/>\n     <use style=\"fill-opacity:0;stroke:#000000;\" x=\"219.775\" xlink:href=\"#m856b702cfd\" y=\"214.566809\"/>\n     <use style=\"fill-opacity:0;stroke:#000000;\" x=\"219.775\" xlink:href=\"#m856b702cfd\" y=\"214.534515\"/>\n     <use style=\"fill-opacity:0;stroke:#000000;\" x=\"219.775\" xlink:href=\"#m856b702cfd\" y=\"214.538727\"/>\n     <use style=\"fill-opacity:0;stroke:#000000;\" x=\"219.775\" xlink:href=\"#m856b702cfd\" y=\"214.564844\"/>\n    </g>\n   </g>\n   <g id=\"line2d_25\">\n    <path clip-path=\"url(#pea970b6de5)\" d=\"M 194.665 214.701884 \nL 244.885 214.701884 \n\" style=\"fill:none;stroke:#2ca02c;stroke-linecap:square;\"/>\n   </g>\n   <g id=\"patch_3\">\n    <path d=\"M 52.375 224.64 \nL 52.375 7.2 \n\" style=\"fill:none;stroke:#000000;stroke-linecap:square;stroke-linejoin:miter;stroke-width:0.8;\"/>\n   </g>\n   <g id=\"patch_4\">\n    <path d=\"M 387.175 224.64 \nL 387.175 7.2 \n\" style=\"fill:none;stroke:#000000;stroke-linecap:square;stroke-linejoin:miter;stroke-width:0.8;\"/>\n   </g>\n   <g id=\"patch_5\">\n    <path d=\"M 52.375 224.64 \nL 387.175 224.64 \n\" style=\"fill:none;stroke:#000000;stroke-linecap:square;stroke-linejoin:miter;stroke-width:0.8;\"/>\n   </g>\n   <g id=\"patch_6\">\n    <path d=\"M 52.375 7.2 \nL 387.175 7.2 \n\" style=\"fill:none;stroke:#000000;stroke-linecap:square;stroke-linejoin:miter;stroke-width:0.8;\"/>\n   </g>\n  </g>\n </g>\n <defs>\n  <clipPath id=\"pea970b6de5\">\n   <rect height=\"217.44\" width=\"334.8\" x=\"52.375\" y=\"7.2\"/>\n  </clipPath>\n </defs>\n</svg>\n",
      "image/png": "[encoded data removed]"
     },
     "metadata": {
      "needs_background": "light"
     }
    }
   ],
   "source": [
    "# make a box plot to see the outliers\n",
    "df.boxplot(column = ['order_amount'])"
   ]
  },
  {
   "cell_type": "code",
   "execution_count": 9,
   "metadata": {},
   "outputs": [
    {
     "output_type": "execute_result",
     "data": {
      "text/plain": [
       "      order_id  shop_id  user_id  order_amount  total_items payment_method  \\\n",
       "15          16       42      607        704000         2000    credit_card   \n",
       "60          61       42      607        704000         2000    credit_card   \n",
       "99         100       18      752           780            5           cash   \n",
       "136        137       15      961           765            5    credit_card   \n",
       "160        161       78      990         25725            1    credit_card   \n",
       "...        ...      ...      ...           ...          ...            ...   \n",
       "4918      4919       78      823         25725            1           cash   \n",
       "4927      4928       74      849           765            5           cash   \n",
       "4952      4953       26      786           880            5           cash   \n",
       "4958      4959       70      711           865            5    credit_card   \n",
       "4980      4981       50      942           772            4    credit_card   \n",
       "\n",
       "               created_at  \n",
       "15     2017-03-07 4:00:00  \n",
       "60     2017-03-04 4:00:00  \n",
       "99    2017-03-06 23:41:16  \n",
       "136    2017-03-26 5:06:46  \n",
       "160    2017-03-12 5:56:57  \n",
       "...                   ...  \n",
       "4918  2017-03-15 13:26:46  \n",
       "4927   2017-03-28 6:55:57  \n",
       "4952   2017-03-17 1:50:18  \n",
       "4958  2017-03-08 17:22:51  \n",
       "4980   2017-03-23 5:15:19  \n",
       "\n",
       "[141 rows x 7 columns]"
      ],
      "text/html": "<div>\n<style scoped>\n    .dataframe tbody tr th:only-of-type {\n        vertical-align: middle;\n    }\n\n    .dataframe tbody tr th {\n        vertical-align: top;\n    }\n\n    .dataframe thead th {\n        text-align: right;\n    }\n</style>\n<table border=\"1\" class=\"dataframe\">\n  <thead>\n    <tr style=\"text-align: right;\">\n      <th></th>\n      <th>order_id</th>\n      <th>shop_id</th>\n      <th>user_id</th>\n      <th>order_amount</th>\n      <th>total_items</th>\n      <th>payment_method</th>\n      <th>created_at</th>\n    </tr>\n  </thead>\n  <tbody>\n    <tr>\n      <th>15</th>\n      <td>16</td>\n      <td>42</td>\n      <td>607</td>\n      <td>704000</td>\n      <td>2000</td>\n      <td>credit_card</td>\n      <td>2017-03-07 4:00:00</td>\n    </tr>\n    <tr>\n      <th>60</th>\n      <td>61</td>\n      <td>42</td>\n      <td>607</td>\n      <td>704000</td>\n      <td>2000</td>\n      <td>credit_card</td>\n      <td>2017-03-04 4:00:00</td>\n    </tr>\n    <tr>\n      <th>99</th>\n      <td>100</td>\n      <td>18</td>\n      <td>752</td>\n      <td>780</td>\n      <td>5</td>\n      <td>cash</td>\n      <td>2017-03-06 23:41:16</td>\n    </tr>\n    <tr>\n      <th>136</th>\n      <td>137</td>\n      <td>15</td>\n      <td>961</td>\n      <td>765</td>\n      <td>5</td>\n      <td>credit_card</td>\n      <td>2017-03-26 5:06:46</td>\n    </tr>\n    <tr>\n      <th>160</th>\n      <td>161</td>\n      <td>78</td>\n      <td>990</td>\n      <td>25725</td>\n      <td>1</td>\n      <td>credit_card</td>\n      <td>2017-03-12 5:56:57</td>\n    </tr>\n    <tr>\n      <th>...</th>\n      <td>...</td>\n      <td>...</td>\n      <td>...</td>\n      <td>...</td>\n      <td>...</td>\n      <td>...</td>\n      <td>...</td>\n    </tr>\n    <tr>\n      <th>4918</th>\n      <td>4919</td>\n      <td>78</td>\n      <td>823</td>\n      <td>25725</td>\n      <td>1</td>\n      <td>cash</td>\n      <td>2017-03-15 13:26:46</td>\n    </tr>\n    <tr>\n      <th>4927</th>\n      <td>4928</td>\n      <td>74</td>\n      <td>849</td>\n      <td>765</td>\n      <td>5</td>\n      <td>cash</td>\n      <td>2017-03-28 6:55:57</td>\n    </tr>\n    <tr>\n      <th>4952</th>\n      <td>4953</td>\n      <td>26</td>\n      <td>786</td>\n      <td>880</td>\n      <td>5</td>\n      <td>cash</td>\n      <td>2017-03-17 1:50:18</td>\n    </tr>\n    <tr>\n      <th>4958</th>\n      <td>4959</td>\n      <td>70</td>\n      <td>711</td>\n      <td>865</td>\n      <td>5</td>\n      <td>credit_card</td>\n      <td>2017-03-08 17:22:51</td>\n    </tr>\n    <tr>\n      <th>4980</th>\n      <td>4981</td>\n      <td>50</td>\n      <td>942</td>\n      <td>772</td>\n      <td>4</td>\n      <td>credit_card</td>\n      <td>2017-03-23 5:15:19</td>\n    </tr>\n  </tbody>\n</table>\n<p>141 rows × 7 columns</p>\n</div>"
     },
     "metadata": {},
     "execution_count": 9
    }
   ],
   "source": [
    "# filter out the outliers(the orders with high order_amount)\n",
    "def outliers(df,column_name):\n",
    "    q1 = df[column_name].quantile(0.25)\n",
    "    q3 = df[column_name].quantile(0.75)\n",
    "    iqr = q3-q1\n",
    "    fence_high = q3+1.5*iqr \n",
    "    outliers = df.loc[(df[column_name] > fence_high)]\n",
    "    return outliers\n",
    "outliers(df,'order_amount')"
   ]
  },
  {
   "source": [
    "Some data(order_id 100, 137,4928,etc.) still look reasonable, so we check on the data where the order_amount is more extreme."
   ],
   "cell_type": "markdown",
   "metadata": {}
  },
  {
   "cell_type": "code",
   "execution_count": 13,
   "metadata": {},
   "outputs": [
    {
     "output_type": "execute_result",
     "data": {
      "text/plain": [
       "25725.0"
      ]
     },
     "metadata": {},
     "execution_count": 13
    }
   ],
   "source": [
    "q = df['order_amount'].quantile(0.99)\n",
    "q"
   ]
  },
  {
   "cell_type": "code",
   "execution_count": 12,
   "metadata": {},
   "outputs": [
    {
     "output_type": "execute_result",
     "data": {
      "text/plain": [
       "     order_id  shop_id  user_id  order_amount  total_items payment_method  \\\n",
       "15         16       42      607        704000         2000    credit_card   \n",
       "60         61       42      607        704000         2000    credit_card   \n",
       "490       491       78      936         51450            2          debit   \n",
       "493       494       78      983         51450            2           cash   \n",
       "511       512       78      967         51450            2           cash   \n",
       "\n",
       "              created_at  \n",
       "15    2017-03-07 4:00:00  \n",
       "60    2017-03-04 4:00:00  \n",
       "490  2017-03-26 17:08:19  \n",
       "493  2017-03-16 21:39:35  \n",
       "511   2017-03-09 7:23:14  "
      ],
      "text/html": "<div>\n<style scoped>\n    .dataframe tbody tr th:only-of-type {\n        vertical-align: middle;\n    }\n\n    .dataframe tbody tr th {\n        vertical-align: top;\n    }\n\n    .dataframe thead th {\n        text-align: right;\n    }\n</style>\n<table border=\"1\" class=\"dataframe\">\n  <thead>\n    <tr style=\"text-align: right;\">\n      <th></th>\n      <th>order_id</th>\n      <th>shop_id</th>\n      <th>user_id</th>\n      <th>order_amount</th>\n      <th>total_items</th>\n      <th>payment_method</th>\n      <th>created_at</th>\n    </tr>\n  </thead>\n  <tbody>\n    <tr>\n      <th>15</th>\n      <td>16</td>\n      <td>42</td>\n      <td>607</td>\n      <td>704000</td>\n      <td>2000</td>\n      <td>credit_card</td>\n      <td>2017-03-07 4:00:00</td>\n    </tr>\n    <tr>\n      <th>60</th>\n      <td>61</td>\n      <td>42</td>\n      <td>607</td>\n      <td>704000</td>\n      <td>2000</td>\n      <td>credit_card</td>\n      <td>2017-03-04 4:00:00</td>\n    </tr>\n    <tr>\n      <th>490</th>\n      <td>491</td>\n      <td>78</td>\n      <td>936</td>\n      <td>51450</td>\n      <td>2</td>\n      <td>debit</td>\n      <td>2017-03-26 17:08:19</td>\n    </tr>\n    <tr>\n      <th>493</th>\n      <td>494</td>\n      <td>78</td>\n      <td>983</td>\n      <td>51450</td>\n      <td>2</td>\n      <td>cash</td>\n      <td>2017-03-16 21:39:35</td>\n    </tr>\n    <tr>\n      <th>511</th>\n      <td>512</td>\n      <td>78</td>\n      <td>967</td>\n      <td>51450</td>\n      <td>2</td>\n      <td>cash</td>\n      <td>2017-03-09 7:23:14</td>\n    </tr>\n  </tbody>\n</table>\n</div>"
     },
     "metadata": {},
     "execution_count": 12
    }
   ],
   "source": [
    "outliers = df[df['order_amount']>q]\n",
    "outliers.head()"
   ]
  },
  {
   "source": [
    "All extreme data are from shop_id 42 and shop_id 78, let's first take a look at shop 42.\n",
    "\n",
    "User_id 607 placed 17 orders at shop_id 42 in 30 days, all orders were created exactly at 4:00:00, with exactly 2000 items, and an order_amount of 704000. These don't look like valid transactions."
   ],
   "cell_type": "markdown",
   "metadata": {}
  },
  {
   "cell_type": "code",
   "execution_count": 15,
   "metadata": {},
   "outputs": [
    {
     "output_type": "execute_result",
     "data": {
      "text/plain": [
       "      order_id  shop_id  user_id  order_amount  total_items payment_method  \\\n",
       "15          16       42      607        704000         2000    credit_card   \n",
       "60          61       42      607        704000         2000    credit_card   \n",
       "520        521       42      607        704000         2000    credit_card   \n",
       "1104      1105       42      607        704000         2000    credit_card   \n",
       "1362      1363       42      607        704000         2000    credit_card   \n",
       "1436      1437       42      607        704000         2000    credit_card   \n",
       "1562      1563       42      607        704000         2000    credit_card   \n",
       "1602      1603       42      607        704000         2000    credit_card   \n",
       "2153      2154       42      607        704000         2000    credit_card   \n",
       "2297      2298       42      607        704000         2000    credit_card   \n",
       "2835      2836       42      607        704000         2000    credit_card   \n",
       "2969      2970       42      607        704000         2000    credit_card   \n",
       "3332      3333       42      607        704000         2000    credit_card   \n",
       "4056      4057       42      607        704000         2000    credit_card   \n",
       "4646      4647       42      607        704000         2000    credit_card   \n",
       "4868      4869       42      607        704000         2000    credit_card   \n",
       "4882      4883       42      607        704000         2000    credit_card   \n",
       "\n",
       "              created_at  \n",
       "15    2017-03-07 4:00:00  \n",
       "60    2017-03-04 4:00:00  \n",
       "520   2017-03-02 4:00:00  \n",
       "1104  2017-03-24 4:00:00  \n",
       "1362  2017-03-15 4:00:00  \n",
       "1436  2017-03-11 4:00:00  \n",
       "1562  2017-03-19 4:00:00  \n",
       "1602  2017-03-17 4:00:00  \n",
       "2153  2017-03-12 4:00:00  \n",
       "2297  2017-03-07 4:00:00  \n",
       "2835  2017-03-28 4:00:00  \n",
       "2969  2017-03-28 4:00:00  \n",
       "3332  2017-03-24 4:00:00  \n",
       "4056  2017-03-28 4:00:00  \n",
       "4646  2017-03-02 4:00:00  \n",
       "4868  2017-03-22 4:00:00  \n",
       "4882  2017-03-25 4:00:00  "
      ],
      "text/html": "<div>\n<style scoped>\n    .dataframe tbody tr th:only-of-type {\n        vertical-align: middle;\n    }\n\n    .dataframe tbody tr th {\n        vertical-align: top;\n    }\n\n    .dataframe thead th {\n        text-align: right;\n    }\n</style>\n<table border=\"1\" class=\"dataframe\">\n  <thead>\n    <tr style=\"text-align: right;\">\n      <th></th>\n      <th>order_id</th>\n      <th>shop_id</th>\n      <th>user_id</th>\n      <th>order_amount</th>\n      <th>total_items</th>\n      <th>payment_method</th>\n      <th>created_at</th>\n    </tr>\n  </thead>\n  <tbody>\n    <tr>\n      <th>15</th>\n      <td>16</td>\n      <td>42</td>\n      <td>607</td>\n      <td>704000</td>\n      <td>2000</td>\n      <td>credit_card</td>\n      <td>2017-03-07 4:00:00</td>\n    </tr>\n    <tr>\n      <th>60</th>\n      <td>61</td>\n      <td>42</td>\n      <td>607</td>\n      <td>704000</td>\n      <td>2000</td>\n      <td>credit_card</td>\n      <td>2017-03-04 4:00:00</td>\n    </tr>\n    <tr>\n      <th>520</th>\n      <td>521</td>\n      <td>42</td>\n      <td>607</td>\n      <td>704000</td>\n      <td>2000</td>\n      <td>credit_card</td>\n      <td>2017-03-02 4:00:00</td>\n    </tr>\n    <tr>\n      <th>1104</th>\n      <td>1105</td>\n      <td>42</td>\n      <td>607</td>\n      <td>704000</td>\n      <td>2000</td>\n      <td>credit_card</td>\n      <td>2017-03-24 4:00:00</td>\n    </tr>\n    <tr>\n      <th>1362</th>\n      <td>1363</td>\n      <td>42</td>\n      <td>607</td>\n      <td>704000</td>\n      <td>2000</td>\n      <td>credit_card</td>\n      <td>2017-03-15 4:00:00</td>\n    </tr>\n    <tr>\n      <th>1436</th>\n      <td>1437</td>\n      <td>42</td>\n      <td>607</td>\n      <td>704000</td>\n      <td>2000</td>\n      <td>credit_card</td>\n      <td>2017-03-11 4:00:00</td>\n    </tr>\n    <tr>\n      <th>1562</th>\n      <td>1563</td>\n      <td>42</td>\n      <td>607</td>\n      <td>704000</td>\n      <td>2000</td>\n      <td>credit_card</td>\n      <td>2017-03-19 4:00:00</td>\n    </tr>\n    <tr>\n      <th>1602</th>\n      <td>1603</td>\n      <td>42</td>\n      <td>607</td>\n      <td>704000</td>\n      <td>2000</td>\n      <td>credit_card</td>\n      <td>2017-03-17 4:00:00</td>\n    </tr>\n    <tr>\n      <th>2153</th>\n      <td>2154</td>\n      <td>42</td>\n      <td>607</td>\n      <td>704000</td>\n      <td>2000</td>\n      <td>credit_card</td>\n      <td>2017-03-12 4:00:00</td>\n    </tr>\n    <tr>\n      <th>2297</th>\n      <td>2298</td>\n      <td>42</td>\n      <td>607</td>\n      <td>704000</td>\n      <td>2000</td>\n      <td>credit_card</td>\n      <td>2017-03-07 4:00:00</td>\n    </tr>\n    <tr>\n      <th>2835</th>\n      <td>2836</td>\n      <td>42</td>\n      <td>607</td>\n      <td>704000</td>\n      <td>2000</td>\n      <td>credit_card</td>\n      <td>2017-03-28 4:00:00</td>\n    </tr>\n    <tr>\n      <th>2969</th>\n      <td>2970</td>\n      <td>42</td>\n      <td>607</td>\n      <td>704000</td>\n      <td>2000</td>\n      <td>credit_card</td>\n      <td>2017-03-28 4:00:00</td>\n    </tr>\n    <tr>\n      <th>3332</th>\n      <td>3333</td>\n      <td>42</td>\n      <td>607</td>\n      <td>704000</td>\n      <td>2000</td>\n      <td>credit_card</td>\n      <td>2017-03-24 4:00:00</td>\n    </tr>\n    <tr>\n      <th>4056</th>\n      <td>4057</td>\n      <td>42</td>\n      <td>607</td>\n      <td>704000</td>\n      <td>2000</td>\n      <td>credit_card</td>\n      <td>2017-03-28 4:00:00</td>\n    </tr>\n    <tr>\n      <th>4646</th>\n      <td>4647</td>\n      <td>42</td>\n      <td>607</td>\n      <td>704000</td>\n      <td>2000</td>\n      <td>credit_card</td>\n      <td>2017-03-02 4:00:00</td>\n    </tr>\n    <tr>\n      <th>4868</th>\n      <td>4869</td>\n      <td>42</td>\n      <td>607</td>\n      <td>704000</td>\n      <td>2000</td>\n      <td>credit_card</td>\n      <td>2017-03-22 4:00:00</td>\n    </tr>\n    <tr>\n      <th>4882</th>\n      <td>4883</td>\n      <td>42</td>\n      <td>607</td>\n      <td>704000</td>\n      <td>2000</td>\n      <td>credit_card</td>\n      <td>2017-03-25 4:00:00</td>\n    </tr>\n  </tbody>\n</table>\n</div>"
     },
     "metadata": {},
     "execution_count": 15
    }
   ],
   "source": [
    "outliers[outliers['shop_id']==42]"
   ]
  },
  {
   "source": [
    "Then we take a look at shop_id 78. Even though shop 78 has large order_amount, orders are created at various time and by different users, when we look at all orders from the store, we can see that all their products have high price. This makes their high order_amount look reasonable, but we should still check their website to see what they sale to make sure these orders are valid. "
   ],
   "cell_type": "markdown",
   "metadata": {}
  },
  {
   "cell_type": "code",
   "execution_count": 16,
   "metadata": {},
   "outputs": [
    {
     "output_type": "execute_result",
     "data": {
      "text/plain": [
       "      order_id  shop_id  user_id  order_amount  total_items payment_method  \\\n",
       "490        491       78      936         51450            2          debit   \n",
       "493        494       78      983         51450            2           cash   \n",
       "511        512       78      967         51450            2           cash   \n",
       "617        618       78      760         51450            2           cash   \n",
       "691        692       78      878        154350            6          debit   \n",
       "1259      1260       78      775         77175            3    credit_card   \n",
       "1529      1530       78      810         51450            2           cash   \n",
       "2452      2453       78      709         51450            2           cash   \n",
       "2492      2493       78      834        102900            4          debit   \n",
       "2495      2496       78      707         51450            2           cash   \n",
       "2512      2513       78      935         51450            2          debit   \n",
       "2564      2565       78      915         77175            3          debit   \n",
       "2690      2691       78      962         77175            3          debit   \n",
       "2818      2819       78      869         51450            2          debit   \n",
       "2821      2822       78      814         51450            2           cash   \n",
       "2906      2907       78      817         77175            3          debit   \n",
       "3101      3102       78      855         51450            2    credit_card   \n",
       "3167      3168       78      927         51450            2           cash   \n",
       "3403      3404       78      928         77175            3          debit   \n",
       "3705      3706       78      828         51450            2    credit_card   \n",
       "3724      3725       78      766         77175            3    credit_card   \n",
       "4079      4080       78      946         51450            2           cash   \n",
       "4192      4193       78      787         77175            3    credit_card   \n",
       "4311      4312       78      960         51450            2          debit   \n",
       "4412      4413       78      756         51450            2          debit   \n",
       "4420      4421       78      969         77175            3          debit   \n",
       "4715      4716       78      818         77175            3          debit   \n",
       "\n",
       "               created_at  \n",
       "490   2017-03-26 17:08:19  \n",
       "493   2017-03-16 21:39:35  \n",
       "511    2017-03-09 7:23:14  \n",
       "617   2017-03-18 11:18:42  \n",
       "691   2017-03-27 22:51:43  \n",
       "1259   2017-03-27 9:27:20  \n",
       "1529   2017-03-29 7:12:01  \n",
       "2452  2017-03-27 11:04:04  \n",
       "2492   2017-03-04 4:37:34  \n",
       "2495   2017-03-26 4:38:52  \n",
       "2512  2017-03-18 18:57:13  \n",
       "2564   2017-03-25 1:19:35  \n",
       "2690   2017-03-22 7:33:25  \n",
       "2818   2017-03-17 6:25:51  \n",
       "2821  2017-03-02 17:13:25  \n",
       "2906   2017-03-16 3:45:46  \n",
       "3101   2017-03-21 5:10:34  \n",
       "3167  2017-03-12 12:23:08  \n",
       "3403   2017-03-16 9:45:05  \n",
       "3705  2017-03-14 20:43:15  \n",
       "3724  2017-03-16 14:13:26  \n",
       "4079  2017-03-20 21:14:00  \n",
       "4192   2017-03-18 9:25:32  \n",
       "4311   2017-03-01 3:02:10  \n",
       "4412   2017-03-02 4:13:39  \n",
       "4420  2017-03-09 15:21:35  \n",
       "4715   2017-03-05 5:10:44  "
      ],
      "text/html": "<div>\n<style scoped>\n    .dataframe tbody tr th:only-of-type {\n        vertical-align: middle;\n    }\n\n    .dataframe tbody tr th {\n        vertical-align: top;\n    }\n\n    .dataframe thead th {\n        text-align: right;\n    }\n</style>\n<table border=\"1\" class=\"dataframe\">\n  <thead>\n    <tr style=\"text-align: right;\">\n      <th></th>\n      <th>order_id</th>\n      <th>shop_id</th>\n      <th>user_id</th>\n      <th>order_amount</th>\n      <th>total_items</th>\n      <th>payment_method</th>\n      <th>created_at</th>\n    </tr>\n  </thead>\n  <tbody>\n    <tr>\n      <th>490</th>\n      <td>491</td>\n      <td>78</td>\n      <td>936</td>\n      <td>51450</td>\n      <td>2</td>\n      <td>debit</td>\n      <td>2017-03-26 17:08:19</td>\n    </tr>\n    <tr>\n      <th>493</th>\n      <td>494</td>\n      <td>78</td>\n      <td>983</td>\n      <td>51450</td>\n      <td>2</td>\n      <td>cash</td>\n      <td>2017-03-16 21:39:35</td>\n    </tr>\n    <tr>\n      <th>511</th>\n      <td>512</td>\n      <td>78</td>\n      <td>967</td>\n      <td>51450</td>\n      <td>2</td>\n      <td>cash</td>\n      <td>2017-03-09 7:23:14</td>\n    </tr>\n    <tr>\n      <th>617</th>\n      <td>618</td>\n      <td>78</td>\n      <td>760</td>\n      <td>51450</td>\n      <td>2</td>\n      <td>cash</td>\n      <td>2017-03-18 11:18:42</td>\n    </tr>\n    <tr>\n      <th>691</th>\n      <td>692</td>\n      <td>78</td>\n      <td>878</td>\n      <td>154350</td>\n      <td>6</td>\n      <td>debit</td>\n      <td>2017-03-27 22:51:43</td>\n    </tr>\n    <tr>\n      <th>1259</th>\n      <td>1260</td>\n      <td>78</td>\n      <td>775</td>\n      <td>77175</td>\n      <td>3</td>\n      <td>credit_card</td>\n      <td>2017-03-27 9:27:20</td>\n    </tr>\n    <tr>\n      <th>1529</th>\n      <td>1530</td>\n      <td>78</td>\n      <td>810</td>\n      <td>51450</td>\n      <td>2</td>\n      <td>cash</td>\n      <td>2017-03-29 7:12:01</td>\n    </tr>\n    <tr>\n      <th>2452</th>\n      <td>2453</td>\n      <td>78</td>\n      <td>709</td>\n      <td>51450</td>\n      <td>2</td>\n      <td>cash</td>\n      <td>2017-03-27 11:04:04</td>\n    </tr>\n    <tr>\n      <th>2492</th>\n      <td>2493</td>\n      <td>78</td>\n      <td>834</td>\n      <td>102900</td>\n      <td>4</td>\n      <td>debit</td>\n      <td>2017-03-04 4:37:34</td>\n    </tr>\n    <tr>\n      <th>2495</th>\n      <td>2496</td>\n      <td>78</td>\n      <td>707</td>\n      <td>51450</td>\n      <td>2</td>\n      <td>cash</td>\n      <td>2017-03-26 4:38:52</td>\n    </tr>\n    <tr>\n      <th>2512</th>\n      <td>2513</td>\n      <td>78</td>\n      <td>935</td>\n      <td>51450</td>\n      <td>2</td>\n      <td>debit</td>\n      <td>2017-03-18 18:57:13</td>\n    </tr>\n    <tr>\n      <th>2564</th>\n      <td>2565</td>\n      <td>78</td>\n      <td>915</td>\n      <td>77175</td>\n      <td>3</td>\n      <td>debit</td>\n      <td>2017-03-25 1:19:35</td>\n    </tr>\n    <tr>\n      <th>2690</th>\n      <td>2691</td>\n      <td>78</td>\n      <td>962</td>\n      <td>77175</td>\n      <td>3</td>\n      <td>debit</td>\n      <td>2017-03-22 7:33:25</td>\n    </tr>\n    <tr>\n      <th>2818</th>\n      <td>2819</td>\n      <td>78</td>\n      <td>869</td>\n      <td>51450</td>\n      <td>2</td>\n      <td>debit</td>\n      <td>2017-03-17 6:25:51</td>\n    </tr>\n    <tr>\n      <th>2821</th>\n      <td>2822</td>\n      <td>78</td>\n      <td>814</td>\n      <td>51450</td>\n      <td>2</td>\n      <td>cash</td>\n      <td>2017-03-02 17:13:25</td>\n    </tr>\n    <tr>\n      <th>2906</th>\n      <td>2907</td>\n      <td>78</td>\n      <td>817</td>\n      <td>77175</td>\n      <td>3</td>\n      <td>debit</td>\n      <td>2017-03-16 3:45:46</td>\n    </tr>\n    <tr>\n      <th>3101</th>\n      <td>3102</td>\n      <td>78</td>\n      <td>855</td>\n      <td>51450</td>\n      <td>2</td>\n      <td>credit_card</td>\n      <td>2017-03-21 5:10:34</td>\n    </tr>\n    <tr>\n      <th>3167</th>\n      <td>3168</td>\n      <td>78</td>\n      <td>927</td>\n      <td>51450</td>\n      <td>2</td>\n      <td>cash</td>\n      <td>2017-03-12 12:23:08</td>\n    </tr>\n    <tr>\n      <th>3403</th>\n      <td>3404</td>\n      <td>78</td>\n      <td>928</td>\n      <td>77175</td>\n      <td>3</td>\n      <td>debit</td>\n      <td>2017-03-16 9:45:05</td>\n    </tr>\n    <tr>\n      <th>3705</th>\n      <td>3706</td>\n      <td>78</td>\n      <td>828</td>\n      <td>51450</td>\n      <td>2</td>\n      <td>credit_card</td>\n      <td>2017-03-14 20:43:15</td>\n    </tr>\n    <tr>\n      <th>3724</th>\n      <td>3725</td>\n      <td>78</td>\n      <td>766</td>\n      <td>77175</td>\n      <td>3</td>\n      <td>credit_card</td>\n      <td>2017-03-16 14:13:26</td>\n    </tr>\n    <tr>\n      <th>4079</th>\n      <td>4080</td>\n      <td>78</td>\n      <td>946</td>\n      <td>51450</td>\n      <td>2</td>\n      <td>cash</td>\n      <td>2017-03-20 21:14:00</td>\n    </tr>\n    <tr>\n      <th>4192</th>\n      <td>4193</td>\n      <td>78</td>\n      <td>787</td>\n      <td>77175</td>\n      <td>3</td>\n      <td>credit_card</td>\n      <td>2017-03-18 9:25:32</td>\n    </tr>\n    <tr>\n      <th>4311</th>\n      <td>4312</td>\n      <td>78</td>\n      <td>960</td>\n      <td>51450</td>\n      <td>2</td>\n      <td>debit</td>\n      <td>2017-03-01 3:02:10</td>\n    </tr>\n    <tr>\n      <th>4412</th>\n      <td>4413</td>\n      <td>78</td>\n      <td>756</td>\n      <td>51450</td>\n      <td>2</td>\n      <td>debit</td>\n      <td>2017-03-02 4:13:39</td>\n    </tr>\n    <tr>\n      <th>4420</th>\n      <td>4421</td>\n      <td>78</td>\n      <td>969</td>\n      <td>77175</td>\n      <td>3</td>\n      <td>debit</td>\n      <td>2017-03-09 15:21:35</td>\n    </tr>\n    <tr>\n      <th>4715</th>\n      <td>4716</td>\n      <td>78</td>\n      <td>818</td>\n      <td>77175</td>\n      <td>3</td>\n      <td>debit</td>\n      <td>2017-03-05 5:10:44</td>\n    </tr>\n  </tbody>\n</table>\n</div>"
     },
     "metadata": {},
     "execution_count": 16
    }
   ],
   "source": [
    "outliers[outliers['shop_id']==78]"
   ]
  },
  {
   "cell_type": "code",
   "execution_count": 17,
   "metadata": {},
   "outputs": [
    {
     "output_type": "execute_result",
     "data": {
      "text/plain": [
       "      order_id  shop_id  user_id  order_amount  total_items payment_method  \\\n",
       "160        161       78      990         25725            1    credit_card   \n",
       "490        491       78      936         51450            2          debit   \n",
       "493        494       78      983         51450            2           cash   \n",
       "511        512       78      967         51450            2           cash   \n",
       "617        618       78      760         51450            2           cash   \n",
       "691        692       78      878        154350            6          debit   \n",
       "1056      1057       78      800         25725            1          debit   \n",
       "1193      1194       78      944         25725            1          debit   \n",
       "1204      1205       78      970         25725            1    credit_card   \n",
       "1259      1260       78      775         77175            3    credit_card   \n",
       "1384      1385       78      867         25725            1           cash   \n",
       "1419      1420       78      912         25725            1           cash   \n",
       "1452      1453       78      812         25725            1    credit_card   \n",
       "1529      1530       78      810         51450            2           cash   \n",
       "2270      2271       78      855         25725            1    credit_card   \n",
       "2452      2453       78      709         51450            2           cash   \n",
       "2492      2493       78      834        102900            4          debit   \n",
       "2495      2496       78      707         51450            2           cash   \n",
       "2512      2513       78      935         51450            2          debit   \n",
       "2548      2549       78      861         25725            1           cash   \n",
       "2564      2565       78      915         77175            3          debit   \n",
       "2690      2691       78      962         77175            3          debit   \n",
       "2773      2774       78      890         25725            1           cash   \n",
       "2818      2819       78      869         51450            2          debit   \n",
       "2821      2822       78      814         51450            2           cash   \n",
       "2906      2907       78      817         77175            3          debit   \n",
       "2922      2923       78      740         25725            1          debit   \n",
       "3085      3086       78      910         25725            1           cash   \n",
       "3101      3102       78      855         51450            2    credit_card   \n",
       "3151      3152       78      745         25725            1    credit_card   \n",
       "3167      3168       78      927         51450            2           cash   \n",
       "3403      3404       78      928         77175            3          debit   \n",
       "3440      3441       78      982         25725            1          debit   \n",
       "3705      3706       78      828         51450            2    credit_card   \n",
       "3724      3725       78      766         77175            3    credit_card   \n",
       "3780      3781       78      889         25725            1           cash   \n",
       "4040      4041       78      852         25725            1           cash   \n",
       "4079      4080       78      946         51450            2           cash   \n",
       "4192      4193       78      787         77175            3    credit_card   \n",
       "4311      4312       78      960         51450            2          debit   \n",
       "4412      4413       78      756         51450            2          debit   \n",
       "4420      4421       78      969         77175            3          debit   \n",
       "4505      4506       78      866         25725            1          debit   \n",
       "4584      4585       78      997         25725            1           cash   \n",
       "4715      4716       78      818         77175            3          debit   \n",
       "4918      4919       78      823         25725            1           cash   \n",
       "\n",
       "               created_at  \n",
       "160    2017-03-12 5:56:57  \n",
       "490   2017-03-26 17:08:19  \n",
       "493   2017-03-16 21:39:35  \n",
       "511    2017-03-09 7:23:14  \n",
       "617   2017-03-18 11:18:42  \n",
       "691   2017-03-27 22:51:43  \n",
       "1056  2017-03-15 10:16:45  \n",
       "1193  2017-03-16 16:38:26  \n",
       "1204  2017-03-17 22:32:21  \n",
       "1259   2017-03-27 9:27:20  \n",
       "1384  2017-03-17 16:38:06  \n",
       "1419  2017-03-30 12:23:43  \n",
       "1452  2017-03-17 18:09:54  \n",
       "1529   2017-03-29 7:12:01  \n",
       "2270  2017-03-14 23:58:22  \n",
       "2452  2017-03-27 11:04:04  \n",
       "2492   2017-03-04 4:37:34  \n",
       "2495   2017-03-26 4:38:52  \n",
       "2512  2017-03-18 18:57:13  \n",
       "2548  2017-03-17 19:36:00  \n",
       "2564   2017-03-25 1:19:35  \n",
       "2690   2017-03-22 7:33:25  \n",
       "2773  2017-03-26 10:36:43  \n",
       "2818   2017-03-17 6:25:51  \n",
       "2821  2017-03-02 17:13:25  \n",
       "2906   2017-03-16 3:45:46  \n",
       "2922  2017-03-12 20:10:58  \n",
       "3085   2017-03-26 1:59:27  \n",
       "3101   2017-03-21 5:10:34  \n",
       "3151  2017-03-18 13:13:07  \n",
       "3167  2017-03-12 12:23:08  \n",
       "3403   2017-03-16 9:45:05  \n",
       "3440  2017-03-19 19:02:54  \n",
       "3705  2017-03-14 20:43:15  \n",
       "3724  2017-03-16 14:13:26  \n",
       "3780  2017-03-11 21:14:50  \n",
       "4040  2017-03-02 14:31:12  \n",
       "4079  2017-03-20 21:14:00  \n",
       "4192   2017-03-18 9:25:32  \n",
       "4311   2017-03-01 3:02:10  \n",
       "4412   2017-03-02 4:13:39  \n",
       "4420  2017-03-09 15:21:35  \n",
       "4505  2017-03-22 22:06:01  \n",
       "4584  2017-03-25 21:48:44  \n",
       "4715   2017-03-05 5:10:44  \n",
       "4918  2017-03-15 13:26:46  "
      ],
      "text/html": "<div>\n<style scoped>\n    .dataframe tbody tr th:only-of-type {\n        vertical-align: middle;\n    }\n\n    .dataframe tbody tr th {\n        vertical-align: top;\n    }\n\n    .dataframe thead th {\n        text-align: right;\n    }\n</style>\n<table border=\"1\" class=\"dataframe\">\n  <thead>\n    <tr style=\"text-align: right;\">\n      <th></th>\n      <th>order_id</th>\n      <th>shop_id</th>\n      <th>user_id</th>\n      <th>order_amount</th>\n      <th>total_items</th>\n      <th>payment_method</th>\n      <th>created_at</th>\n    </tr>\n  </thead>\n  <tbody>\n    <tr>\n      <th>160</th>\n      <td>161</td>\n      <td>78</td>\n      <td>990</td>\n      <td>25725</td>\n      <td>1</td>\n      <td>credit_card</td>\n      <td>2017-03-12 5:56:57</td>\n    </tr>\n    <tr>\n      <th>490</th>\n      <td>491</td>\n      <td>78</td>\n      <td>936</td>\n      <td>51450</td>\n      <td>2</td>\n      <td>debit</td>\n      <td>2017-03-26 17:08:19</td>\n    </tr>\n    <tr>\n      <th>493</th>\n      <td>494</td>\n      <td>78</td>\n      <td>983</td>\n      <td>51450</td>\n      <td>2</td>\n      <td>cash</td>\n      <td>2017-03-16 21:39:35</td>\n    </tr>\n    <tr>\n      <th>511</th>\n      <td>512</td>\n      <td>78</td>\n      <td>967</td>\n      <td>51450</td>\n      <td>2</td>\n      <td>cash</td>\n      <td>2017-03-09 7:23:14</td>\n    </tr>\n    <tr>\n      <th>617</th>\n      <td>618</td>\n      <td>78</td>\n      <td>760</td>\n      <td>51450</td>\n      <td>2</td>\n      <td>cash</td>\n      <td>2017-03-18 11:18:42</td>\n    </tr>\n    <tr>\n      <th>691</th>\n      <td>692</td>\n      <td>78</td>\n      <td>878</td>\n      <td>154350</td>\n      <td>6</td>\n      <td>debit</td>\n      <td>2017-03-27 22:51:43</td>\n    </tr>\n    <tr>\n      <th>1056</th>\n      <td>1057</td>\n      <td>78</td>\n      <td>800</td>\n      <td>25725</td>\n      <td>1</td>\n      <td>debit</td>\n      <td>2017-03-15 10:16:45</td>\n    </tr>\n    <tr>\n      <th>1193</th>\n      <td>1194</td>\n      <td>78</td>\n      <td>944</td>\n      <td>25725</td>\n      <td>1</td>\n      <td>debit</td>\n      <td>2017-03-16 16:38:26</td>\n    </tr>\n    <tr>\n      <th>1204</th>\n      <td>1205</td>\n      <td>78</td>\n      <td>970</td>\n      <td>25725</td>\n      <td>1</td>\n      <td>credit_card</td>\n      <td>2017-03-17 22:32:21</td>\n    </tr>\n    <tr>\n      <th>1259</th>\n      <td>1260</td>\n      <td>78</td>\n      <td>775</td>\n      <td>77175</td>\n      <td>3</td>\n      <td>credit_card</td>\n      <td>2017-03-27 9:27:20</td>\n    </tr>\n    <tr>\n      <th>1384</th>\n      <td>1385</td>\n      <td>78</td>\n      <td>867</td>\n      <td>25725</td>\n      <td>1</td>\n      <td>cash</td>\n      <td>2017-03-17 16:38:06</td>\n    </tr>\n    <tr>\n      <th>1419</th>\n      <td>1420</td>\n      <td>78</td>\n      <td>912</td>\n      <td>25725</td>\n      <td>1</td>\n      <td>cash</td>\n      <td>2017-03-30 12:23:43</td>\n    </tr>\n    <tr>\n      <th>1452</th>\n      <td>1453</td>\n      <td>78</td>\n      <td>812</td>\n      <td>25725</td>\n      <td>1</td>\n      <td>credit_card</td>\n      <td>2017-03-17 18:09:54</td>\n    </tr>\n    <tr>\n      <th>1529</th>\n      <td>1530</td>\n      <td>78</td>\n      <td>810</td>\n      <td>51450</td>\n      <td>2</td>\n      <td>cash</td>\n      <td>2017-03-29 7:12:01</td>\n    </tr>\n    <tr>\n      <th>2270</th>\n      <td>2271</td>\n      <td>78</td>\n      <td>855</td>\n      <td>25725</td>\n      <td>1</td>\n      <td>credit_card</td>\n      <td>2017-03-14 23:58:22</td>\n    </tr>\n    <tr>\n      <th>2452</th>\n      <td>2453</td>\n      <td>78</td>\n      <td>709</td>\n      <td>51450</td>\n      <td>2</td>\n      <td>cash</td>\n      <td>2017-03-27 11:04:04</td>\n    </tr>\n    <tr>\n      <th>2492</th>\n      <td>2493</td>\n      <td>78</td>\n      <td>834</td>\n      <td>102900</td>\n      <td>4</td>\n      <td>debit</td>\n      <td>2017-03-04 4:37:34</td>\n    </tr>\n    <tr>\n      <th>2495</th>\n      <td>2496</td>\n      <td>78</td>\n      <td>707</td>\n      <td>51450</td>\n      <td>2</td>\n      <td>cash</td>\n      <td>2017-03-26 4:38:52</td>\n    </tr>\n    <tr>\n      <th>2512</th>\n      <td>2513</td>\n      <td>78</td>\n      <td>935</td>\n      <td>51450</td>\n      <td>2</td>\n      <td>debit</td>\n      <td>2017-03-18 18:57:13</td>\n    </tr>\n    <tr>\n      <th>2548</th>\n      <td>2549</td>\n      <td>78</td>\n      <td>861</td>\n      <td>25725</td>\n      <td>1</td>\n      <td>cash</td>\n      <td>2017-03-17 19:36:00</td>\n    </tr>\n    <tr>\n      <th>2564</th>\n      <td>2565</td>\n      <td>78</td>\n      <td>915</td>\n      <td>77175</td>\n      <td>3</td>\n      <td>debit</td>\n      <td>2017-03-25 1:19:35</td>\n    </tr>\n    <tr>\n      <th>2690</th>\n      <td>2691</td>\n      <td>78</td>\n      <td>962</td>\n      <td>77175</td>\n      <td>3</td>\n      <td>debit</td>\n      <td>2017-03-22 7:33:25</td>\n    </tr>\n    <tr>\n      <th>2773</th>\n      <td>2774</td>\n      <td>78</td>\n      <td>890</td>\n      <td>25725</td>\n      <td>1</td>\n      <td>cash</td>\n      <td>2017-03-26 10:36:43</td>\n    </tr>\n    <tr>\n      <th>2818</th>\n      <td>2819</td>\n      <td>78</td>\n      <td>869</td>\n      <td>51450</td>\n      <td>2</td>\n      <td>debit</td>\n      <td>2017-03-17 6:25:51</td>\n    </tr>\n    <tr>\n      <th>2821</th>\n      <td>2822</td>\n      <td>78</td>\n      <td>814</td>\n      <td>51450</td>\n      <td>2</td>\n      <td>cash</td>\n      <td>2017-03-02 17:13:25</td>\n    </tr>\n    <tr>\n      <th>2906</th>\n      <td>2907</td>\n      <td>78</td>\n      <td>817</td>\n      <td>77175</td>\n      <td>3</td>\n      <td>debit</td>\n      <td>2017-03-16 3:45:46</td>\n    </tr>\n    <tr>\n      <th>2922</th>\n      <td>2923</td>\n      <td>78</td>\n      <td>740</td>\n      <td>25725</td>\n      <td>1</td>\n      <td>debit</td>\n      <td>2017-03-12 20:10:58</td>\n    </tr>\n    <tr>\n      <th>3085</th>\n      <td>3086</td>\n      <td>78</td>\n      <td>910</td>\n      <td>25725</td>\n      <td>1</td>\n      <td>cash</td>\n      <td>2017-03-26 1:59:27</td>\n    </tr>\n    <tr>\n      <th>3101</th>\n      <td>3102</td>\n      <td>78</td>\n      <td>855</td>\n      <td>51450</td>\n      <td>2</td>\n      <td>credit_card</td>\n      <td>2017-03-21 5:10:34</td>\n    </tr>\n    <tr>\n      <th>3151</th>\n      <td>3152</td>\n      <td>78</td>\n      <td>745</td>\n      <td>25725</td>\n      <td>1</td>\n      <td>credit_card</td>\n      <td>2017-03-18 13:13:07</td>\n    </tr>\n    <tr>\n      <th>3167</th>\n      <td>3168</td>\n      <td>78</td>\n      <td>927</td>\n      <td>51450</td>\n      <td>2</td>\n      <td>cash</td>\n      <td>2017-03-12 12:23:08</td>\n    </tr>\n    <tr>\n      <th>3403</th>\n      <td>3404</td>\n      <td>78</td>\n      <td>928</td>\n      <td>77175</td>\n      <td>3</td>\n      <td>debit</td>\n      <td>2017-03-16 9:45:05</td>\n    </tr>\n    <tr>\n      <th>3440</th>\n      <td>3441</td>\n      <td>78</td>\n      <td>982</td>\n      <td>25725</td>\n      <td>1</td>\n      <td>debit</td>\n      <td>2017-03-19 19:02:54</td>\n    </tr>\n    <tr>\n      <th>3705</th>\n      <td>3706</td>\n      <td>78</td>\n      <td>828</td>\n      <td>51450</td>\n      <td>2</td>\n      <td>credit_card</td>\n      <td>2017-03-14 20:43:15</td>\n    </tr>\n    <tr>\n      <th>3724</th>\n      <td>3725</td>\n      <td>78</td>\n      <td>766</td>\n      <td>77175</td>\n      <td>3</td>\n      <td>credit_card</td>\n      <td>2017-03-16 14:13:26</td>\n    </tr>\n    <tr>\n      <th>3780</th>\n      <td>3781</td>\n      <td>78</td>\n      <td>889</td>\n      <td>25725</td>\n      <td>1</td>\n      <td>cash</td>\n      <td>2017-03-11 21:14:50</td>\n    </tr>\n    <tr>\n      <th>4040</th>\n      <td>4041</td>\n      <td>78</td>\n      <td>852</td>\n      <td>25725</td>\n      <td>1</td>\n      <td>cash</td>\n      <td>2017-03-02 14:31:12</td>\n    </tr>\n    <tr>\n      <th>4079</th>\n      <td>4080</td>\n      <td>78</td>\n      <td>946</td>\n      <td>51450</td>\n      <td>2</td>\n      <td>cash</td>\n      <td>2017-03-20 21:14:00</td>\n    </tr>\n    <tr>\n      <th>4192</th>\n      <td>4193</td>\n      <td>78</td>\n      <td>787</td>\n      <td>77175</td>\n      <td>3</td>\n      <td>credit_card</td>\n      <td>2017-03-18 9:25:32</td>\n    </tr>\n    <tr>\n      <th>4311</th>\n      <td>4312</td>\n      <td>78</td>\n      <td>960</td>\n      <td>51450</td>\n      <td>2</td>\n      <td>debit</td>\n      <td>2017-03-01 3:02:10</td>\n    </tr>\n    <tr>\n      <th>4412</th>\n      <td>4413</td>\n      <td>78</td>\n      <td>756</td>\n      <td>51450</td>\n      <td>2</td>\n      <td>debit</td>\n      <td>2017-03-02 4:13:39</td>\n    </tr>\n    <tr>\n      <th>4420</th>\n      <td>4421</td>\n      <td>78</td>\n      <td>969</td>\n      <td>77175</td>\n      <td>3</td>\n      <td>debit</td>\n      <td>2017-03-09 15:21:35</td>\n    </tr>\n    <tr>\n      <th>4505</th>\n      <td>4506</td>\n      <td>78</td>\n      <td>866</td>\n      <td>25725</td>\n      <td>1</td>\n      <td>debit</td>\n      <td>2017-03-22 22:06:01</td>\n    </tr>\n    <tr>\n      <th>4584</th>\n      <td>4585</td>\n      <td>78</td>\n      <td>997</td>\n      <td>25725</td>\n      <td>1</td>\n      <td>cash</td>\n      <td>2017-03-25 21:48:44</td>\n    </tr>\n    <tr>\n      <th>4715</th>\n      <td>4716</td>\n      <td>78</td>\n      <td>818</td>\n      <td>77175</td>\n      <td>3</td>\n      <td>debit</td>\n      <td>2017-03-05 5:10:44</td>\n    </tr>\n    <tr>\n      <th>4918</th>\n      <td>4919</td>\n      <td>78</td>\n      <td>823</td>\n      <td>25725</td>\n      <td>1</td>\n      <td>cash</td>\n      <td>2017-03-15 13:26:46</td>\n    </tr>\n  </tbody>\n</table>\n</div>"
     },
     "metadata": {},
     "execution_count": 17
    }
   ],
   "source": [
    "df[df['shop_id']==78]"
   ]
  },
  {
   "cell_type": "code",
   "execution_count": null,
   "metadata": {},
   "outputs": [],
   "source": []
  },
  {
   "source": [
    "### Better way to calculate the average order_amount:\n",
    "From the analysis I think we should exclude the orders where shop_id = 42 and user_id = 607. So I created a cleaned_df to exclude them, and calculated the new average order value(AOV) to be $754.79. \n",
    "\n",
    "Considering the average price of regular sneakers, I further excluded orders where shop_id = 78, and calculated another AVO of $300.16."
   ],
   "cell_type": "markdown",
   "metadata": {}
  },
  {
   "cell_type": "code",
   "execution_count": 19,
   "metadata": {},
   "outputs": [],
   "source": [
    "filter = (df['shop_id']!= 42) & (df['user_id']!= 607)"
   ]
  },
  {
   "cell_type": "code",
   "execution_count": 29,
   "metadata": {},
   "outputs": [],
   "source": [
    "cleaned_df = df[filter]"
   ]
  },
  {
   "cell_type": "code",
   "execution_count": 30,
   "metadata": {},
   "outputs": [
    {
     "output_type": "execute_result",
     "data": {
      "text/plain": [
       "754.7916750858759"
      ]
     },
     "metadata": {},
     "execution_count": 30
    }
   ],
   "source": [
    "cleaned_df['order_amount'].mean()"
   ]
  },
  {
   "cell_type": "code",
   "execution_count": 31,
   "metadata": {},
   "outputs": [
    {
     "output_type": "execute_result",
     "data": {
      "text/plain": [
       "300.1558229655313"
      ]
     },
     "metadata": {},
     "execution_count": 31
    }
   ],
   "source": [
    "filter2 = (cleaned_df['shop_id']!= 78)\n",
    "cleaned_df2 = cleaned_df[filter2]\n",
    "cleaned_df2['order_amount'].mean()"
   ]
  },
  {
   "source": [
    "## Question 1b. What metric would you report for this dataset?\n",
    "\n",
    "## Answer 1b: There are 4 metrics I would report for this dataset:\n",
    "<ol>\n",
    "  <li>The average number of orders per user.</li>\n",
    "  <li>The average number of items sold per order.</li>\n",
    "  <li> The average price of a pair of shoes on Shopify. </li>\n",
    "  <li> The usage of each payment_method. </li>\n",
    "</ol>"
   ],
   "cell_type": "markdown",
   "metadata": {}
  },
  {
   "source": [
    "## Question 1c. What is its value?\n",
    "I'm using the cleaned_df to calculate the values. \n",
    "## Answer 1c:  \n",
    "<ol>\n",
    "  <li>The average number of orders per user: </li>\n",
    "  <p> 16  </p>\n",
    "  <li>The average number of items sold per order:</li>\n",
    "  <p> 2 </p>\n",
    "  <li> The average price of a pair of shoes on Shopify: </li>\n",
    "  <p> 408  </p>\n",
    "  <li>The usage of each payment_method. </li>\n",
    "  <p> credit_card    0.345120  </p>\n",
    "  <p> debit          0.334613  </p>\n",
    "  <p> cash           0.320267  </p>\n",
    "  \n",
    "</ol>"
   ],
   "cell_type": "markdown",
   "metadata": {}
  },
  {
   "cell_type": "code",
   "execution_count": 33,
   "metadata": {},
   "outputs": [
    {
     "output_type": "execute_result",
     "data": {
      "text/plain": [
       "16.496666666666666"
      ]
     },
     "metadata": {},
     "execution_count": 33
    }
   ],
   "source": [
    "# 1. The average number of orders per user.\n",
    "cleaned_df.user_id.value_counts().mean()"
   ]
  },
  {
   "cell_type": "code",
   "execution_count": 36,
   "metadata": {},
   "outputs": [
    {
     "output_type": "execute_result",
     "data": {
      "text/plain": [
       "1.9949484744392807"
      ]
     },
     "metadata": {},
     "execution_count": 36
    }
   ],
   "source": [
    "# 2. The average number of items sold per order.\n",
    "cleaned_df['total_items'].mean()"
   ]
  },
  {
   "cell_type": "code",
   "execution_count": 71,
   "metadata": {},
   "outputs": [
    {
     "output_type": "execute_result",
     "data": {
      "text/plain": [
       "408.55555555555554"
      ]
     },
     "metadata": {},
     "execution_count": 71
    }
   ],
   "source": [
    "# 3. The average price of a pair of shoes \n",
    "# Since the shops sells only one model of shoe, using the order_amount/total_items we are able to get the price of shoes at each shop, then we can calculate the average price of shoes from the 100 shops\n",
    "cleaned_df['price'] = cleaned_df['order_amount']/cleaned_df['total_items']\n",
    "shop_price = cleaned_df[['shop_id','price']].groupby('shop_id').agg('mean')\n",
    "shop['price'].mean()"
   ]
  },
  {
   "cell_type": "code",
   "execution_count": 66,
   "metadata": {},
   "outputs": [
    {
     "output_type": "execute_result",
     "data": {
      "text/plain": [
       "credit_card    0.345120\n",
       "debit          0.334613\n",
       "cash           0.320267\n",
       "Name: payment_method, dtype: float64"
      ]
     },
     "metadata": {},
     "execution_count": 66
    }
   ],
   "source": [
    "# 4. The usage of each payment_method.\n",
    "cleaned_df['payment_method'].value_counts()/len(cleaned_df['payment_method'])"
   ]
  },
  {
   "source": [],
   "cell_type": "markdown",
   "metadata": {}
  },
  {
   "source": [
    "## Question 2 "
   ],
   "cell_type": "markdown",
   "metadata": {}
  },
  {
   "source": [
    "### a. How many orders were shipped by Speedy Express in total?\n",
    "\n",
    "### answer: 54 orders were shipped by Speedy Express in total. \n",
    "### SQL query:\n",
    "```SQL\n",
    "SELECT Count(orderid)\n",
    "FROM   orders\n",
    "WHERE  shipperid = (SELECT shipperid\n",
    "                    FROM   shippers\n",
    "                    WHERE  shippername = 'Speedy Express') \n",
    "```"
   ],
   "cell_type": "markdown",
   "metadata": {}
  },
  {
   "source": [
    "### b. What is the last name of the employee with the most orders?\n",
    "\n",
    "### answer: The last name of the employee with the most orders is Peacock.\n",
    "### SQL query:\n",
    "```SQL\n",
    "SELECT lastname\n",
    "FROM   employees\n",
    "WHERE  employeeid = (SELECT employeeid\n",
    "                     FROM   orders\n",
    "                     GROUP  BY employeeid\n",
    "                     ORDER  BY Count(employeeid) DESC\n",
    "                     LIMIT  1) \n",
    "```"
   ],
   "cell_type": "markdown",
   "metadata": {}
  },
  {
   "source": [
    "### c. What product was ordered the most by customers in Germany?\n",
    "\n",
    "### answer: The product named Gorgonzola Telino with Product ID 31 was ordered the most by customers in Germany .\n",
    "### SQL query:\n",
    "```SQL\n",
    "SELECT *\n",
    "FROM   products\n",
    "WHERE  productid = (SELECT productid\n",
    "                    FROM   orderdetails\n",
    "                    WHERE  orderid IN (SELECT orderid\n",
    "                                       FROM   orders o\n",
    "                                              INNER JOIN customers c\n",
    "                                                      ON o.customerid =\n",
    "                                                         c.customerid\n",
    "                                                         AND\n",
    "                                              c.country = 'Germany')\n",
    "                    GROUP  BY productid\n",
    "                    ORDER  BY Count(*) DESC\n",
    "                    LIMIT  1) \n",
    "\n",
    "\n",
    "```"
   ],
   "cell_type": "markdown",
   "metadata": {}
  },
  {
   "cell_type": "code",
   "execution_count": null,
   "metadata": {},
   "outputs": [],
   "source": []
  }
 ]
}